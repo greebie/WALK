{
 "cells": [
  {
   "cell_type": "code",
   "execution_count": 1,
   "metadata": {
    "collapsed": true
   },
   "outputs": [],
   "source": [
    "##################### \n",
    "#Dealing with large datasets can be confusing, especially when you have very little idea\n",
    "#about what's actually inside the data.  Using an analysis like multiple correspondence analysis\n",
    "#can be quite confusing in that context.  Here is an example of using mca where the data might\n",
    "#be a little more clear.  That way you can see the benefit of mca in action.\n"
   ]
  },
  {
   "cell_type": "code",
   "execution_count": 2,
   "metadata": {
    "collapsed": false
   },
   "outputs": [
    {
     "name": "stdout",
     "output_type": "stream",
     "text": [
      "True\n"
     ]
    },
    {
     "data": {
      "image/png": "[encoded data removed]",
      "text/plain": [
       "<matplotlib.figure.Figure at 0x7f0511b49da0>"
      ]
     },
     "metadata": {},
     "output_type": "display_data"
    }
   ],
   "source": [
    "#First let's import the necessary library.\n",
    "%matplotlib inline\n",
    "from Compare import Compare\n",
    "from json import dumps\n",
    "\n",
    "x = Compare({\"happy\": [\"sad\", \"depressed\"], \"sad\": [\"ecstatic\", \"bursting\"]}, LABEL_BOTH_FACTORS=True)\n",
    "print (x.LABEL_BOTH_FACTORS)"
   ]
  },
  {
   "cell_type": "code",
   "execution_count": 3,
   "metadata": {
    "collapsed": false
   },
   "outputs": [],
   "source": [
    "#Let's work with Committees of the current (2015-2016) sitting parliament.\n",
    "# In network lingo, we are working with \"bivariate\" or \"affiliation\" data.\n",
    "# There are two sets of variables.  1. MPs and 2. Committees that the MPs belong to.\n",
    "# Or worded in another way, we are examining how MPs are affiliated with different groups.\n",
    "\n",
    "\n",
    "Committees = dict({\"ESPE\": #Pay equity\n",
    "                   [(\"Lib\", \"A Vandenbeld\"), (\"Con\", \"S Stubbs\"), (\"NDP\", \"S Benson\"), (\"Con\", \"D Albas\"), \n",
    "                    (\"Lib\", \"M DeCourcey\"), (\"Lib\", \"J Dzerowicz\"), (\"Con\", \"M Gladu\"), (\"Lib\", \"T Sheehan\"), \n",
    "                    (\"Lib\", \"S Sidhu\")],\n",
    "                   \n",
    "                   \"FEWO\": #Status of Women\n",
    "                   [(\"Con\", \"M Gladu\"), (\"Lib\", \"P Damoff\"), (\"NDP\", \"S Malcomson\"), (\"Lib\", \"S Fraser\"), \n",
    "                    (\"Con\", \"R Harder\"), (\"Lib\", \"K Ludwig\"), (\"Lib\", \"E Nassif\"), (\"Lib\", \"R Sahota\"), \n",
    "                    (\"Lib\", \"A Vandenbeld\"), (\"Con\", \"K Vecchio\")],\n",
    "                   \n",
    "                   \"HESA\": #Health\n",
    "                   [(\"Lib\", \"B Casey\"), (\"Con\", \"L Webber\"), (\"NDP\", \"D Davies\"), (\"Lib\", \"R Ayoub\"), \n",
    "                    (\"Con\", \"C Carrie\"), (\"Lib\", \"D Eyolfson\"), (\"Con\", \"R Harder\"), (\"Lib\", \"DS Kang\"), \n",
    "                    (\"Lib\", \"J Oliver\"), (\"Lib\", \"S Sidhu\")],\n",
    "                  \n",
    "                   \"BILI\": #Library of Parliament\n",
    "                   [(\"Con\", \"G Brown\"), (\"Con\", \"K Diotte\"), (\"Con\", \"T Doherty\"), (\"Lib\", \"A Iacono\"),\n",
    "                   (\"Con\", \"M Lake\"), (\"Lib\", \"M Levitt\"), (\"Lib\", \"E Nassif\"), (\"NDP\", \"AMT Quach\"), \n",
    "                   (\"Lib\", \"D Rusnak\"), (\"Lib\", \"M Serré\"), (\"Lib\", \"G Sikand\"), (\"Lib\", \"S Simms\")],\n",
    "                   \n",
    "                   \"RNNR\": #Natural Resources\n",
    "                   [(\"Lib\", \"J Maloney\"), (\"Con\", \"J Barlow\"), (\"NDP\", \"R Cannings\"), (\"Con\", \"C Bergen\"),\n",
    "                   (\"Lib\", \"TJ Harvey\"), (\"Lib\", \"D Lemieux\"), (\"Lib\", \"MV Mcleod\"), (\"Lib\", \"M Serré\"), \n",
    "                   (\"Con\", \"S Stubbs\"), (\"Lib\", \"G Tan\")],\n",
    "                   \n",
    "                   \"ACVA\": #Veteran's Affairs\n",
    "                   [(\"Lib\", \"NR Ellis\"), (\"Con\", \"R Kitchen\"), (\"NDP\", \"I Mathyssen\"), (\"Lib\", \"B Bratina\"),\n",
    "                   (\"Con\", \"A Clarke\"), (\"Lib\", \"D Eyolfson\"), (\"Lib\", \"C Fraser\"), (\"Lib\", \"A Lockhart\"), \n",
    "                   (\"Lib\", \"S Romando\"), (\"Con\", \"C Wagantall\")],\n",
    "                   \n",
    "                   \"JUST\": #Justice and Human Rights\n",
    "                   [(\"Lib\", \"A Housefather\"), (\"Con\", \"T Falk\"), (\"NDP\", \"M Rankin\"), (\"Lib\", \"C Bittle\"), \n",
    "                    (\"Con\", \"M Cooper\"), (\"Lib\", \"C Fraser\"), (\"Lib\", \"A Hussen\"), (\"Lib\", \"I Khalid\"), \n",
    "                    (\"Lib\", \"R McKinnon\"), (\"Con\", \"R Nicholson\")],\n",
    "                   \n",
    "                   \"TRAN\": #Transport, Infrastructure and Communities\n",
    "                   [(\"Lib\", \"JA Sgro\"), (\"Con\", \"L Berthold\"), (\"NDP\", \"L Duncan\"), (\"Lib\", \"V Badawey\"), \n",
    "                    (\"Con\", \"K Block\"), (\"Lib\", \"S Fraser\"), (\"Lib\", \"K Hardie\"), (\"Lib\", \"A Iacono\"), \n",
    "                    (\"Lib\", \"G Sikand\"), (\"Con\", \"DL Watts\")]\n",
    "                  })\n"
   ]
  },
  {
   "cell_type": "code",
   "execution_count": 4,
   "metadata": {
    "collapsed": false
   },
   "outputs": [
    {
     "name": "stdout",
     "output_type": "stream",
     "text": [
      "There are 2 members in common. They are : {'A Vandenbeld', 'M Gladu'}\n"
     ]
    },
    {
     "data": {
      "image/png": "[encoded data removed]",
      "text/plain": [
       "<matplotlib.figure.Figure at 0x7f04fbb49fd0>"
      ]
     },
     "metadata": {},
     "output_type": "display_data"
    }
   ],
   "source": [
    "# Let's just start with a case of two committees and focus just on the people (not their parties)\n",
    "EquityStatus = {\"ESPE\": [y for x, y in Committees[\"ESPE\"]], \"FEWO\": [y for x, y in Committees[\"FEWO\"]]}\n",
    "equityStatus = Compare(EquityStatus)\n",
    "\n",
    "print(\"There are \"+ str(len(equityStatus.V2_AB)) + \" members in common. They are : \" + str(equityStatus.V2_AB))\n"
   ]
  },
  {
   "cell_type": "code",
   "execution_count": 5,
   "metadata": {
    "collapsed": false
   },
   "outputs": [
    {
     "name": "stdout",
     "output_type": "stream",
     "text": [
      "['BILI', 'ACVA', 'TRAN', 'FEWO', 'RNNR', 'HESA', 'JUST', 'ESPE']\n"
     ]
    },
    {
     "data": {
      "image/png": "[encoded data removed]",
      "text/plain": [
       "<matplotlib.figure.Figure at 0x7f04fdf330f0>"
      ]
     },
     "metadata": {},
     "output_type": "display_data"
    },
    {
     "name": "stdout",
     "output_type": "stream",
     "text": [
      "\n",
      "\n",
      "There are a number of ways to work with this analysis.  \n",
      "\n",
      "\n",
      "\n",
      "First, we can examine the factors separately.  For instance, along the horizontal axis (that according to \n",
      "our graph says accounts for 78% of the analysis, we have Transport, Library of Parliament, Natural Resources\n",
      "Health, Status of Women, Equity, Health, Veterans Affairs and Justice. So perhaps there is a spectrum between the \n",
      "technical and social sciences.\n",
      "\n",
      "Now on the vertical axis (47.2% of explanatory) we have Justice, Transport, Library of Parliament, Veteran's\n",
      "Affairs, Natural Resources, Status of Women, Health and Pay Equity.  It's hard to say, but perhaps a spectrum from \n",
      "the highly institutionalized and formal (ie. Justice & Transport) to the ideational / transformative (ie. Pay\n",
      "Equity & Natural Resources imply a need for institutional change due to gender inequality and climate change\n",
      "respectively).\n",
      "\n",
      "We can also name the quadrants:\n",
      "\n",
      "|-----------------|---------------------|\n",
      "|                 |                     |\n",
      "| Reform Agenda   |   Health            |\n",
      "|                 |                     |\n",
      "|=================|=====================|\n",
      "|                 |                     | \n",
      "| Technical       |  Law / Tribunal     |\n",
      "|                 |                     |\n",
      "|-----------------|---------------------|\n",
      "\n",
      "\n",
      "\n",
      "\n",
      "[[0.7533220840496553, 0.2284704826040675, -2.2802040710078004, -1.3363732424175208, 0.5234144407175905, 0.7533220840496551, 0.22847048260406863, 0.6630155175515827, -0.1799437317627469, 0.5257557849904394, -0.24732139081705332, 0.36807155943806097], [0.9868594724226234, -0.7433958511978704, 0.8548014318272263, -0.1265511608198492, 0.2363505741576841, 0.9868594724226231, -0.7433958511978711, 0.3559807405591565, -0.5954280952221951, 0.32345796355805895, -0.9117730117131861, -0.6237656847963988]]\n",
      "[[0.7110637804891295, -1.909800485427533, 0.7154975695915616, 0.2801228938585165, 0.5444845857001307, -0.620881220684763, -2.408207796647427, 0.1525302395331834], [0.7597382881921845, 0.4312305358859651, 0.90684285212859, -0.3605959377334997, -0.1585678023104363, -0.6449466563689636, 1.0123346168152978, -0.8948305338366189]]\n"
     ]
    }
   ],
   "source": [
    "# Now let's see what ca does:\n",
    "LABEL_FOR_TWO = False\n",
    "Committee = dict()\n",
    "\n",
    "for com, members in Committees.items():\n",
    "    Committee[com] = [y for x, y in members]\n",
    "committees_ca = Compare(Committee, LABEL_BOTH_FACTORS=True)\n",
    "print (\"\"\"\n",
    "\n",
    "There are a number of ways to work with this analysis.  \\n\n",
    "\\n\n",
    "First, we can examine the factors separately.  For instance, along the horizontal axis (that according to \n",
    "our graph says accounts for 78% of the analysis, we have Transport, Library of Parliament, Natural Resources\n",
    "Health, Status of Women, Equity, Health, Veterans Affairs and Justice. So perhaps there is a spectrum between the \n",
    "technical and social sciences.\n",
    "\n",
    "Now on the vertical axis (47.2% of explanatory) we have Justice, Transport, Library of Parliament, Veteran's\n",
    "Affairs, Natural Resources, Status of Women, Health and Pay Equity.  It's hard to say, but perhaps a spectrum from \n",
    "the highly institutionalized and formal (ie. Justice & Transport) to the ideational / transformative (ie. Pay\n",
    "Equity & Natural Resources imply a need for institutional change due to gender inequality and climate change\n",
    "respectively).\n",
    "\n",
    "We can also name the quadrants:\n",
    "\n",
    "|-----------------|---------------------|\n",
    "|                 |                     |\n",
    "| Reform Agenda   |   Health            |\n",
    "|                 |                     |\n",
    "|=================|=====================|\n",
    "|                 |                     | \n",
    "| Technical       |  Law / Tribunal     |\n",
    "|                 |                     |\n",
    "|-----------------|---------------------|\n",
    "\n",
    "\n",
    "\n",
    "\"\"\")\n",
    "\n",
    "json_result = committees_ca.row_scores.tolist()\n",
    "json_result2 = committees_ca.col_scores.tolist()\n",
    "print(json_result)\n",
    "print(json_result2)"
   ]
  },
  {
   "cell_type": "code",
   "execution_count": 6,
   "metadata": {
    "collapsed": false
   },
   "outputs": [
    {
     "data": {
      "application/javascript": [
       "\n",
       "           window.dataset=[[0.7110637804891295, -1.909800485427533, 0.7154975695915616, 0.2801228938585165, 0.5444845857001307, -0.620881220684763, -2.408207796647427, 0.1525302395331834], [0.7597382881921845, 0.4312305358859651, 0.90684285212859, -0.3605959377334997, -0.1585678023104363, -0.6449466563689636, 1.0123346168152978, -0.8948305338366189]];\n",
       "           "
      ],
      "text/plain": [
       "<IPython.core.display.Javascript object>"
      ]
     },
     "execution_count": 6,
     "metadata": {},
     "output_type": "execute_result"
    }
   ],
   "source": [
    "from IPython.display import Javascript\n",
    "#runs arbitrary javascript, client-side\n",
    "Javascript(\"\"\"\n",
    "           window.dataset={};\n",
    "           \"\"\".format(json_result2))"
   ]
  },
  {
   "cell_type": "code",
   "execution_count": 7,
   "metadata": {
    "collapsed": false
   },
   "outputs": [
    {
     "data": {
      "application/javascript": [
       "require.config({\n",
       "    paths: {\n",
       "        d3: 'http://d3js.org/d3.v4.min'\n",
       "    }\n",
       "});"
      ],
      "text/plain": [
       "<IPython.core.display.Javascript object>"
      ]
     },
     "metadata": {},
     "output_type": "display_data"
    }
   ],
   "source": [
    "%%javascript\n",
    "require.config({\n",
    "    paths: {\n",
    "        d3: 'http://d3js.org/d3.v4.min'\n",
    "    }\n",
    "});"
   ]
  },
  {
   "cell_type": "code",
   "execution_count": 8,
   "metadata": {
    "collapsed": false
   },
   "outputs": [
    {
     "data": {
      "application/javascript": [
       "\n",
       "/*\n",
       " * As it turns out, pandas returns a dictionary with \n",
       " * the top-level keys as the column headers, and values\n",
       " * as the list of values under that column.\n",
       " * I'd recommend looking yourself.\n",
       " * This function, in JS, converts to what D3 wants.\n",
       " * Of course we could also easily do this on the python side.\n",
       " */\n",
       "function convertPlotData(data){\n",
       "  var convertedData = [];\n",
       "  //pandas gives each column the same number of\n",
       "  //objects, arbitrarily choose one to iterate over\n",
       "  for(var i in data[Object.keys(data)[0]]){\n",
       "    var convertedDatum = {};\n",
       "    for(var key in data){\n",
       "      convertedDatum[key] = data[key][i];\n",
       "    }\n",
       "    convertedData.push(convertedDatum);\n",
       "  }\n",
       "  return convertedData;\n",
       "}\n",
       "\n",
       "window.convertPlotData = convertPlotData;"
      ],
      "text/plain": [
       "<IPython.core.display.Javascript object>"
      ]
     },
     "metadata": {},
     "output_type": "display_data"
    }
   ],
   "source": [
    "%%javascript\n",
    "\n",
    "/*\n",
    " * As it turns out, pandas returns a dictionary with \n",
    " * the top-level keys as the column headers, and values\n",
    " * as the list of values under that column.\n",
    " * I'd recommend looking yourself.\n",
    " * This function, in JS, converts to what D3 wants.\n",
    " * Of course we could also easily do this on the python side.\n",
    " */\n",
    "function convertPlotData(data){\n",
    "  var convertedData = [];\n",
    "  //pandas gives each column the same number of\n",
    "  //objects, arbitrarily choose one to iterate over\n",
    "  for(var i in data[Object.keys(data)[0]]){\n",
    "    var convertedDatum = {};\n",
    "    for(var key in data){\n",
    "      convertedDatum[key] = data[key][i];\n",
    "    }\n",
    "    convertedData.push(convertedDatum);\n",
    "  }\n",
    "  return convertedData;\n",
    "}\n",
    "\n",
    "window.convertPlotData = convertPlotData;"
   ]
  },
  {
   "cell_type": "code",
   "execution_count": 34,
   "metadata": {
    "collapsed": false
   },
   "outputs": [
    {
     "data": {
      "application/javascript": [
       "function zip(arrays) {\n",
       "    return arrays[0].map(function(_,i){\n",
       "        return arrays.map(function(array){return array[i]})\n",
       "    });\n",
       "}\n",
       "\n",
       "//var dataset = zip(dataset)[0];\n",
       "//console.log(zip((dataset)))\n",
       "//Width and height\n",
       "\n",
       "\n",
       "var loc = window.location.pathname;\n",
       "var dir = loc.substring(0, loc.lastIndexOf('/'));\n",
       "require(['d3'], function(d3){\n",
       "    var data2 = [[10 , 30], [20 ,40], [50, 50]];\n",
       "    var w = 500;\n",
       "    var h = 600;\n",
       "    var add_min = Math.abs(d3.min(dataset[0]));\n",
       "    var barPadding = 1;  // <-- New!\n",
       "    console.log(add_min);\n",
       "    $(\"#chart1\").remove();\n",
       "    element.append('<div id=\"chart1\"></div>');  \n",
       "    var svg = d3.select(\"#chart1\")\n",
       "    .append(\"svg\")\n",
       "    .attr(\"width\", w)\n",
       "    .attr(\"height\", h);\n",
       "\n",
       "    svg.selectAll(\"circle\")\n",
       "        .data(zip(dataset))\n",
       "        .enter().append(\"circle\")\n",
       "        .attr(\"cx\", function(d) { return (d[0] + add_min + 1) * 100;})\n",
       "        .attr(\"cy\", function(d) { return (d[1] + add_min + 1) * 100; })\n",
       "        .attr(\"r\", 5);\n",
       "\n",
       "});"
      ],
      "text/plain": [
       "<IPython.core.display.Javascript object>"
      ]
     },
     "metadata": {},
     "output_type": "display_data"
    }
   ],
   "source": [
    "%%javascript\n",
    "function zip(arrays) {\n",
    "    return arrays[0].map(function(_,i){\n",
    "        return arrays.map(function(array){return array[i]})\n",
    "    });\n",
    "}\n",
    "\n",
    "//var dataset = zip(dataset)[0];\n",
    "//console.log(zip((dataset)))\n",
    "//Width and height\n",
    "\n",
    "\n",
    "var loc = window.location.pathname;\n",
    "var dir = loc.substring(0, loc.lastIndexOf('/'));\n",
    "require(['d3'], function(d3){\n",
    "    var data2 = [[10 , 30], [20 ,40], [50, 50]];\n",
    "    var w = 500;\n",
    "    var h = 600;\n",
    "    var add_min = Math.abs(d3.min(dataset[0]));\n",
    "    var barPadding = 1;  // <-- New!\n",
    "    console.log(add_min);\n",
    "    $(\"#chart1\").remove();\n",
    "    element.append('<div id=\"chart1\"></div>');  \n",
    "    var svg = d3.select(\"#chart1\")\n",
    "    .append(\"svg\")\n",
    "    .attr(\"width\", w)\n",
    "    .attr(\"height\", h);\n",
    "\n",
    "    svg.selectAll(\"circle\")\n",
    "        .data(zip(dataset))\n",
    "        .enter().append(\"circle\")\n",
    "        .attr(\"cx\", function(d) { return (d[0] + add_min + 1) * 100;})\n",
    "        .attr(\"cy\", function(d) { return (d[1] + add_min + 1) * 100; })\n",
    "        .attr(\"r\", 5);\n",
    "\n",
    "});"
   ]
  },
  {
   "cell_type": "code",
   "execution_count": null,
   "metadata": {
    "collapsed": true
   },
   "outputs": [],
   "source": []
  }
 ],
 "metadata": {
  "kernelspec": {
   "display_name": "Python 3",
   "language": "python",
   "name": "python3"
  },
  "language_info": {
   "codemirror_mode": {
    "name": "ipython",
    "version": 3
   },
   "file_extension": ".py",
   "mimetype": "text/x-python",
   "name": "python",
   "nbconvert_exporter": "python",
   "pygments_lexer": "ipython3",
   "version": "3.5.2"
  }
 },
 "nbformat": 4,
 "nbformat_minor": 0
}
