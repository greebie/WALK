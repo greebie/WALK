{
 "cells": [
  {
   "cell_type": "code",
   "execution_count": 94,
   "metadata": {
    "collapsed": false
   },
   "outputs": [],
   "source": [
    "%matplotlib inline\n",
    "import pandas as pd\n",
    "import numpy as np\n",
    "from matplotlib_venn import venn2, venn3\n",
    "import mca\n",
    "import matplotlib.pyplot as plt\n",
    "from collections import Counter"
   ]
  },
  {
   "cell_type": "code",
   "execution_count": 136,
   "metadata": {
    "collapsed": false
   },
   "outputs": [],
   "source": [
    "class Compare:\n",
    "    def __init__ (self, collections):\n",
    "        self.collections = collections\n",
    "        if not isinstance(self.collections, list):\n",
    "            self.collections = [self.collections]\n",
    "        if len(self.collections) == 2:\n",
    "            self.response = self.two_venn(self.collections)\n",
    "        elif len(self.collections) == 3:\n",
    "            self.three_venn(self.collections)\n",
    "        elif len(self.collections) >3:\n",
    "            self.ca(self.collections)\n",
    "    # Venn diagram of two collections\n",
    "    def union (self, sets_list):\n",
    "        return set().union(*sets_list)\n",
    "    def two_venn (self, collections):\n",
    "        return  (venn2([set(x) for x in collections]))\n",
    "    def three_venn (self, collections):\n",
    "        return  (venn3([set(x) for x in collections]))\n",
    "    def ca(self, collections):\n",
    "        dd = self.union(collections)\n",
    "        d = []\n",
    "        for y in collections:\n",
    "            d.append({x: x in y for x in dd})\n",
    "        df = pd.DataFrame(d, index=[\"col_1\", \"col_2\", \"col_3\", \"col_4\", \"col_5\"]).T\n",
    "        counts = mca.mca(df)\n",
    "        #data = np.array(counts.L, counts.fs_r())\n",
    "        return(df)\n",
    "        "
   ]
  },
  {
   "cell_type": "code",
   "execution_count": 137,
   "metadata": {
    "collapsed": false
   },
   "outputs": [],
   "source": [
    "collection1 = [\"google\", \"apple\", \"microsoft\", \"msn\", \"napster\", \"oracle\", \"amazon\", \"ibm\"]\n",
    "collection2 = [\"google\", \"pear\", \"thebeatles\", \"thepogues\", \"napster\", \"apple\", \"cow\"]\n",
    "collection3 = [\"google\", \"apple\", \"msn\", \"skunk\", \"beaver\", \"wolf\", \"cow\"]\n",
    "collection4 = [\"apple\", \"jump\", \"walk\", \"run\", \"saunter\", \"skunk\", \"napster\"]\n",
    "collection5 = [\"pear\", \"wolf\", \"jive\", \"tango\"]\n",
    "\n",
    "one_collect = [collection1]\n",
    "two_collect = [collection1, collection2]\n",
    "three_collect = [collection1, collection2, collection3]\n",
    "all_collect = [collection1, collection2, collection3, collection4, collection5]"
   ]
  },
  {
   "cell_type": "code",
   "execution_count": 134,
   "metadata": {
    "collapsed": false
   },
   "outputs": [
    {
     "data": {
      "image/png": "[encoded data removed]",
      "text/plain": [
       "<matplotlib.figure.Figure at 0x116fc9a58>"
      ]
     },
     "metadata": {},
     "output_type": "display_data"
    }
   ],
   "source": [
    "\n",
    "compare = Compare(three_collect)"
   ]
  },
  {
   "cell_type": "code",
   "execution_count": 135,
   "metadata": {
    "collapsed": false
   },
   "outputs": [
    {
     "name": "stdout",
     "output_type": "stream",
     "text": [
      "            col_1  col_2  col_3  col_4  col_5\n",
      "amazon       True  False  False  False  False\n",
      "apple        True   True   True   True  False\n",
      "beaver      False  False   True  False  False\n",
      "cow         False   True   True  False  False\n",
      "google       True   True   True  False  False\n",
      "ibm          True  False  False  False  False\n",
      "jive        False  False  False  False   True\n",
      "jump        False  False  False   True  False\n",
      "microsoft    True  False  False  False  False\n",
      "msn          True  False   True  False  False\n",
      "napster      True   True  False   True  False\n",
      "oracle       True  False  False  False  False\n",
      "pear        False   True  False  False   True\n",
      "run         False  False  False   True  False\n",
      "saunter     False  False  False   True  False\n",
      "skunk       False  False   True   True  False\n",
      "tango       False  False  False  False   True\n",
      "thebeatles  False   True  False  False  False\n",
      "thepogues   False   True  False  False  False\n",
      "walk        False  False  False   True  False\n",
      "wolf        False  False   True  False   True\n"
     ]
    }
   ],
   "source": [
    "print (compare.ca(all_collect))"
   ]
  },
  {
   "cell_type": "code",
   "execution_count": 111,
   "metadata": {
    "collapsed": false
   },
   "outputs": [],
   "source": [
    "plt.show()"
   ]
  },
  {
   "cell_type": "raw",
   "metadata": {
    "collapsed": false
   },
   "source": [
    "\n"
   ]
  },
  {
   "cell_type": "code",
   "execution_count": null,
   "metadata": {
    "collapsed": false
   },
   "outputs": [],
   "source": []
  },
  {
   "cell_type": "code",
   "execution_count": null,
   "metadata": {
    "collapsed": true
   },
   "outputs": [],
   "source": []
  },
  {
   "cell_type": "code",
   "execution_count": null,
   "metadata": {
    "collapsed": true
   },
   "outputs": [],
   "source": []
  },
  {
   "cell_type": "code",
   "execution_count": null,
   "metadata": {
    "collapsed": true
   },
   "outputs": [],
   "source": []
  },
  {
   "cell_type": "code",
   "execution_count": null,
   "metadata": {
    "collapsed": true
   },
   "outputs": [],
   "source": []
  }
 ],
 "metadata": {
  "kernelspec": {
   "display_name": "Python 3",
   "language": "python",
   "name": "python3"
  },
  "language_info": {
   "codemirror_mode": {
    "name": "ipython",
    "version": 3
   },
   "file_extension": ".py",
   "mimetype": "text/x-python",
   "name": "python",
   "nbconvert_exporter": "python",
   "pygments_lexer": "ipython3",
   "version": "3.5.1"
  }
 },
 "nbformat": 4,
 "nbformat_minor": 0
}
