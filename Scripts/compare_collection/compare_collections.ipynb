{
 "cells": [
  {
   "cell_type": "code",
   "execution_count": 11,
   "metadata": {
    "collapsed": false
   },
   "outputs": [],
   "source": [
    "%matplotlib inline\n",
    "import os\n",
    "import pandas as pd\n",
    "import numpy as np\n",
    "from matplotlib_venn import venn2, venn3\n",
    "import mca\n",
    "import matplotlib.pyplot as plt\n",
    "from collections import Counter"
   ]
  },
  {
   "cell_type": "code",
   "execution_count": 39,
   "metadata": {
    "collapsed": false
   },
   "outputs": [],
   "source": [
    "class Compare:\n",
    "    def __init__ (self, collections, names=None, index=[]):\n",
    "        self.collection_names = names\n",
    "        self.index = index\n",
    "        self.collections = collections\n",
    "        # if a dictionary is inputed, then get names from dictionary\n",
    "        if isinstance(self.collections, dict):\n",
    "            self.collection_names = [x for x in self.collections.keys()]\n",
    "            self.collections = [x for x in self.collections.values()]\n",
    "        # if index var is provided, use index to filter collection list\n",
    "        if self.index:\n",
    "            self.collections = self.sublist(self.collections, self.index)\n",
    "            self.collection_names = self.sublist(self.collection_names, self.index)\n",
    "        #two sample venn\n",
    "        if len(self.collections) == 2:\n",
    "            self.response = self.two_venn(self.collections)\n",
    "        #three sample venn\n",
    "        elif len(self.collections) == 3:\n",
    "            self.three_venn(self.collections)\n",
    "        #use mca for greater than three\n",
    "        elif len(self.collections) >3:\n",
    "            self.ca = self.ca(self.collections, self.collection_names)\n",
    "        else:\n",
    "            print (\"Need at least two collections to compare results.\")\n",
    "    \n",
    "    #get a sublist from a list of indices\n",
    "    def sublist (self, list1, list2):\n",
    "        return([list1[x] for x in list2])        \n",
    "    #get set of all items (unduplicated)\n",
    "    def unionize (self, sets_list):\n",
    "        return set().union(*sets_list)\n",
    "    def two_venn (self, collections):\n",
    "        return  (venn2([set(x) for x in collections], set_labels=self.collection_names))\n",
    "    def three_venn (self, collections):\n",
    "        return  (venn3([set(x) for x in collections], set_labels=self.collection_names))\n",
    "    def ca(self, collections, names):\n",
    "        # use dd to create dataframe\n",
    "        dd = self.unionize(collections)\n",
    "        d = []\n",
    "        fs, cos, cont = 'Factor Score','Squared cosines', 'Contributions x 1000'\n",
    "        #populate table with matches for actors (weblists)\n",
    "        for y in collections:\n",
    "            d.append({x: x in y for x in dd})\n",
    "        df = pd.DataFrame(d, index=names)\n",
    "        counts = mca.mca(df)\n",
    "        data = pd.DataFrame(columns=df.index, index=pd.MultiIndex\n",
    "                      .from_product([[fs, cos, cont], range(1, 3)]))\n",
    "        data.loc[fs,    :] = counts.fs_r(N=2).T\n",
    "        points = data.loc[fs].values\n",
    "        labels = data.columns.values\n",
    "\n",
    "        plt.figure(figsize=(10,10))\n",
    "        plt.margins(0.1)\n",
    "        plt.axhline(0, color='gray')\n",
    "        plt.axvline(0, color='gray')\n",
    "        plt.xlabel('Factor 1')\n",
    "        plt.ylabel('Factor 2')\n",
    "        plt.scatter(*points, s=120, marker='o', c='r', alpha=.5, linewidths=0)\n",
    "        for label, x, y in zip(labels, *points):\n",
    "            plt.annotate(label, xy=(x, y), xytext=(x + .03, y + .03))\n",
    "        plt.show()\n",
    "        return(df.T)\n",
    "        "
   ]
  },
  {
   "cell_type": "code",
   "execution_count": 40,
   "metadata": {
    "collapsed": false
   },
   "outputs": [
    {
     "name": "stdout",
     "output_type": "stream",
     "text": [
      "alberta_education_curriculum-links.txt\n",
      "alberta_floods_2013-links.txt\n",
      "alberta_oil_sands-links.txt\n",
      "canadian_business_grey_literature-links.txt\n",
      "elxn42-links.txt\n",
      "energy_environment-links.txt\n",
      "hcf_alberta_online_encyclopedia-links.txt\n",
      "health_sciences_grey_literature-links.txt\n",
      "heritage_community_foundation-links.txt\n",
      "humanities_computing-links.txt\n",
      "lfrancophonie_de_louest_canadien-links.txt\n",
      "ottawa_shooting_october_2014-links.txt\n",
      "prarie_provinces-links.txt\n",
      "web_archive_general-links.txt\n"
     ]
    }
   ],
   "source": [
    "collection = dict()\n",
    "path = \"data/\"\n",
    "for filename in os.listdir(path):\n",
    "    file = open(path+filename, \"r\")\n",
    "    collect = [line.translate(str.maketrans(')',\" \")).split(\",\")[2] for line in file.readlines()[0:5000]]\n",
    "    collection[filename[0:10]] = (collect)\n",
    "    print(filename)\n",
    "\n",
    "\n",
    "\n",
    "\n",
    "    \n",
    "    "
   ]
  },
  {
   "cell_type": "code",
   "execution_count": 4,
   "metadata": {
    "collapsed": false
   },
   "outputs": [],
   "source": [
    "\n",
    "\n",
    "collection1 = [\"google\", \"apple\", \"microsoft\", \"msn\", \"napster\", \"oracle\", \"amazon\", \"ibm\"]\n",
    "collection2 = [\"google\", \"pear\", \"thebeatles\", \"thepogues\", \"napster\", \"apple\", \"cow\"]\n",
    "collection3 = [\"google\", \"apple\", \"msn\", \"skunk\", \"beaver\", \"wolf\", \"cow\"]\n",
    "collection4 = [\"apple\", \"jump\", \"walk\", \"run\", \"saunter\", \"skunk\", \"napster\"]\n",
    "collection5 = [\"pear\", \"wolf\", \"jive\", \"tango\"]\n",
    "collection6 = [\"google\", \"apple\", \"msn\", \"thepogues\", \"napster\", \"wolf\", \"amazon\", \"tango\"]\n",
    "\n",
    "one_collect = [collection1]\n",
    "two_collect = [collection1, collection2]\n",
    "three_collect = [collection1, collection2, collection3]\n",
    "all_collect = [collection1, collection2, collection3, collection4, collection5, collection6]"
   ]
  },
  {
   "cell_type": "code",
   "execution_count": 36,
   "metadata": {
    "collapsed": false
   },
   "outputs": [
    {
     "data": {
      "image/png": "[encoded data removed]",
      "text/plain": [
       "<matplotlib.figure.Figure at 0x103410b38>"
      ]
     },
     "metadata": {},
     "output_type": "display_data"
    }
   ],
   "source": [
    "#Venn diagram for two collections\n",
    "#A has 8 items; B has 7. They have 3 in common.\n",
    "comparit = [x for x in collection.values()]\n",
    "names = [x for x in collection.keys()]\n",
    "compare1 = Compare(comparit, names, [0,6,8])\n"
   ]
  },
  {
   "cell_type": "code",
   "execution_count": 37,
   "metadata": {
    "collapsed": false
   },
   "outputs": [
    {
     "data": {
      "image/png": "[encoded data removed]",
      "text/plain": [
       "<matplotlib.figure.Figure at 0x10f328b70>"
      ]
     },
     "metadata": {},
     "output_type": "display_data"
    }
   ],
   "source": [
    "# What happens with three collections\n",
    "compare2 = Compare(comparit, names, [1,6,10])\n"
   ]
  },
  {
   "cell_type": "code",
   "execution_count": 38,
   "metadata": {
    "collapsed": false
   },
   "outputs": [
    {
     "data": {
      "image/png": "[encoded data removed]",
      "text/plain": [
       "<matplotlib.figure.Figure at 0x115e4ab38>"
      ]
     },
     "metadata": {},
     "output_type": "display_data"
    }
   ],
   "source": [
    "# With more than three collections, the output switches to correspondence analysis.\n",
    "# Katherine Faust offers a great overview of the method here:\n",
    "# www.socsci.uci.edu/~kfaust/faust/research/articles/articles.htm\n",
    "# In this case, collection 2, 3 & 6 have more in common with each other than with the other collections, so\n",
    "# would be the best possible consideration for a common social network analysis.\n",
    "# Collection 1 may be another consideration.\n",
    "del (collection['humanities'])\n",
    "compare3 = Compare(collection, names, [0,1,3,10,11])"
   ]
  },
  {
   "cell_type": "code",
   "execution_count": 28,
   "metadata": {
    "collapsed": false
   },
   "outputs": [
    {
     "name": "stdout",
     "output_type": "stream",
     "text": [
      "                                            energy_env canadian_b heritage_c  \\\n",
      "%                                                False      False      False   \n",
      "0-proquest.umi.com.aupac.lib.athabascau.ca       False      False      False   \n",
      "006ec10.netsolhost.com                           False      False      False   \n",
      "0451shouji.com                                   False      False      False   \n",
      "0523seo.cn                                       False      False      False   \n",
      "0816-geschenke.ch                                False      False      False   \n",
      "0851idc.cn                                       False      False      False   \n",
      "0l3.de                                           False      False      False   \n",
      "1-massage.ru                                     False      False      False   \n",
      "1.bp.blogspot.com                                False      False      False   \n",
      "\n",
      "                                            hcf_albert prarie_pro elxn42-lin  \\\n",
      "%                                                False      False      False   \n",
      "0-proquest.umi.com.aupac.lib.athabascau.ca       False      False      False   \n",
      "006ec10.netsolhost.com                           False      False      False   \n",
      "0451shouji.com                                   False      False      False   \n",
      "0523seo.cn                                       False      False      False   \n",
      "0816-geschenke.ch                                False      False      False   \n",
      "0851idc.cn                                       False      False      False   \n",
      "0l3.de                                           False      False      False   \n",
      "1-massage.ru                                     False      False      False   \n",
      "1.bp.blogspot.com                                False       True      False   \n",
      "\n",
      "                                            health_sci lfrancopho ottawa_sho  \\\n",
      "%                                                False      False      False   \n",
      "0-proquest.umi.com.aupac.lib.athabascau.ca       False      False      False   \n",
      "006ec10.netsolhost.com                           False      False      False   \n",
      "0451shouji.com                                   False      False      False   \n",
      "0523seo.cn                                       False      False      False   \n",
      "0816-geschenke.ch                                False      False      False   \n",
      "0851idc.cn                                       False      False      False   \n",
      "0l3.de                                           False      False      False   \n",
      "1-massage.ru                                     False      False      False   \n",
      "1.bp.blogspot.com                                False      False      False   \n",
      "\n",
      "                                            humanities alberta_oi web_archiv  \\\n",
      "%                                                 True      False      False   \n",
      "0-proquest.umi.com.aupac.lib.athabascau.ca       False       True      False   \n",
      "006ec10.netsolhost.com                            True      False      False   \n",
      "0451shouji.com                                    True      False      False   \n",
      "0523seo.cn                                        True      False      False   \n",
      "0816-geschenke.ch                                 True      False      False   \n",
      "0851idc.cn                                        True      False      False   \n",
      "0l3.de                                            True      False      False   \n",
      "1-massage.ru                                      True      False      False   \n",
      "1.bp.blogspot.com                                 True      False      False   \n",
      "\n",
      "                                            alberta_ed alberta_fl  \n",
      "%                                                False      False  \n",
      "0-proquest.umi.com.aupac.lib.athabascau.ca       False      False  \n",
      "006ec10.netsolhost.com                           False      False  \n",
      "0451shouji.com                                   False      False  \n",
      "0523seo.cn                                       False      False  \n",
      "0816-geschenke.ch                                False      False  \n",
      "0851idc.cn                                       False      False  \n",
      "0l3.de                                           False      False  \n",
      "1-massage.ru                                     False      False  \n",
      "1.bp.blogspot.com                                False       True  \n"
     ]
    }
   ],
   "source": [
    "# Just to show the table of who matches with whom.\n",
    "print (compare3.ca[0:10])"
   ]
  },
  {
   "cell_type": "code",
   "execution_count": null,
   "metadata": {
    "collapsed": true
   },
   "outputs": [],
   "source": []
  }
 ],
 "metadata": {
  "kernelspec": {
   "display_name": "Python 3",
   "language": "python",
   "name": "python3"
  },
  "language_info": {
   "codemirror_mode": {
    "name": "ipython",
    "version": 3
   },
   "file_extension": ".py",
   "mimetype": "text/x-python",
   "name": "python",
   "nbconvert_exporter": "python",
   "pygments_lexer": "ipython3",
   "version": "3.5.1"
  }
 },
 "nbformat": 4,
 "nbformat_minor": 0
}
