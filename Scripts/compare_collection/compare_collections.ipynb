{
 "cells": [
  {
   "cell_type": "code",
   "execution_count": 82,
   "metadata": {
    "collapsed": false
   },
   "outputs": [
    {
     "data": {
      "text/plain": [
       "['__class__',\n",
       " '__delattr__',\n",
       " '__dict__',\n",
       " '__dir__',\n",
       " '__doc__',\n",
       " '__eq__',\n",
       " '__format__',\n",
       " '__ge__',\n",
       " '__getattribute__',\n",
       " '__gt__',\n",
       " '__hash__',\n",
       " '__init__',\n",
       " '__le__',\n",
       " '__lt__',\n",
       " '__module__',\n",
       " '__ne__',\n",
       " '__new__',\n",
       " '__reduce__',\n",
       " '__reduce_ex__',\n",
       " '__repr__',\n",
       " '__setattr__',\n",
       " '__sizeof__',\n",
       " '__str__',\n",
       " '__subclasshook__',\n",
       " '__weakref__',\n",
       " 'cont_c',\n",
       " 'cont_r',\n",
       " 'cos_c',\n",
       " 'cos_r',\n",
       " 'fs_c',\n",
       " 'fs_c_sup',\n",
       " 'fs_r',\n",
       " 'fs_r_sup']"
      ]
     },
     "execution_count": 82,
     "metadata": {},
     "output_type": "execute_result"
    }
   ],
   "source": [
    "%matplotlib inline\n",
    "import pandas as pd\n",
    "import numpy as np\n",
    "from matplotlib_venn import venn2, venn3\n",
    "import mca\n",
    "import matplotlib.pyplot as plt\n",
    "from collections import Counter\n",
    "\n",
    "dir(mca.mca)"
   ]
  },
  {
   "cell_type": "code",
   "execution_count": 83,
   "metadata": {
    "collapsed": false
   },
   "outputs": [],
   "source": [
    "class Compare:\n",
    "    def __init__ (self, collections):\n",
    "        self.collections = collections\n",
    "        if not isinstance(self.collections, list):\n",
    "            self.collections = [self.collections]\n",
    "        if len(self.collections) == 2:\n",
    "            self.response = self.two_venn(self.collections)\n",
    "        elif len(self.collections) == 3:\n",
    "            self.three_venn(self.collections)\n",
    "        elif len(self.collections) >3:\n",
    "            self.ca(self.collections)\n",
    "    # Venn diagram of two collections\n",
    "    def union (self, sets_list):\n",
    "        return set().union(*sets_list)\n",
    "    def two_venn (self, collections):\n",
    "        return  (venn2([set(x) for x in collections]))\n",
    "    def three_venn (self, collections):\n",
    "        return  (venn3([set(x) for x in collections]))\n",
    "    def ca(self, collections):\n",
    "        dd = self.union(collections)\n",
    "        d = []\n",
    "        for y in collections:\n",
    "            d.append({x: x in y for x in dd})\n",
    "        df = pd.DataFrame(d)\n",
    "        counts = mca.mca(df)\n",
    "        data = np.array(counts.L, counts.fs_r())\n",
    "        return(df)\n",
    "        "
   ]
  },
  {
   "cell_type": "code",
   "execution_count": 84,
   "metadata": {
    "collapsed": false
   },
   "outputs": [],
   "source": [
    "collection1 = [\"google\", \"apple\", \"microsoft\", \"msn\"]\n",
    "collection2 = [\"google\", \"pear\", \"thebeatles\", \"thepogues\", \"napster\", \"apple\"]\n",
    "collection3 = [\"google\", \"apple\", \"msn\", \"skunk\", \"beaver\", \"wolf\"]\n",
    "collection4 = [\"apple\", \"jump\", \"walk\", \"run\", \"saunter\", \"skunk\", \"napster\"]\n",
    "collection5 = [\"pear\", \"wolf\", \"jive\", \"tango\"]\n",
    "\n",
    "one_collect = [collection1]\n",
    "two_collect = [collection1, collection2]\n",
    "three_collect = [collection1, collection2, collection3]\n",
    "all_collect = [collection1, collection2, collection3, collection4, collection5]"
   ]
  },
  {
   "cell_type": "code",
   "execution_count": 85,
   "metadata": {
    "collapsed": false
   },
   "outputs": [
    {
     "ename": "TypeError",
     "evalue": "data type not understood",
     "output_type": "error",
     "traceback": [
      "\u001b[0;31m---------------------------------------------------------------------------\u001b[0m",
      "\u001b[0;31mTypeError\u001b[0m                                 Traceback (most recent call last)",
      "\u001b[0;32m<ipython-input-85-a6516138eddd>\u001b[0m in \u001b[0;36m<module>\u001b[0;34m()\u001b[0m\n\u001b[1;32m      1\u001b[0m \u001b[0;34m\u001b[0m\u001b[0m\n\u001b[0;32m----> 2\u001b[0;31m \u001b[0mcompare\u001b[0m \u001b[0;34m=\u001b[0m \u001b[0mCompare\u001b[0m\u001b[0;34m(\u001b[0m\u001b[0mall_collect\u001b[0m\u001b[0;34m)\u001b[0m\u001b[0;34m\u001b[0m\u001b[0m\n\u001b[0m",
      "\u001b[0;32m<ipython-input-83-8dd3fa8107dd>\u001b[0m in \u001b[0;36m__init__\u001b[0;34m(self, collections)\u001b[0m\n\u001b[1;32m      9\u001b[0m             \u001b[0mself\u001b[0m\u001b[0;34m.\u001b[0m\u001b[0mthree_venn\u001b[0m\u001b[0;34m(\u001b[0m\u001b[0mself\u001b[0m\u001b[0;34m.\u001b[0m\u001b[0mcollections\u001b[0m\u001b[0;34m)\u001b[0m\u001b[0;34m\u001b[0m\u001b[0m\n\u001b[1;32m     10\u001b[0m         \u001b[0;32melif\u001b[0m \u001b[0mlen\u001b[0m\u001b[0;34m(\u001b[0m\u001b[0mself\u001b[0m\u001b[0;34m.\u001b[0m\u001b[0mcollections\u001b[0m\u001b[0;34m)\u001b[0m \u001b[0;34m>\u001b[0m\u001b[0;36m3\u001b[0m\u001b[0;34m:\u001b[0m\u001b[0;34m\u001b[0m\u001b[0m\n\u001b[0;32m---> 11\u001b[0;31m             \u001b[0mself\u001b[0m\u001b[0;34m.\u001b[0m\u001b[0mca\u001b[0m\u001b[0;34m(\u001b[0m\u001b[0mself\u001b[0m\u001b[0;34m.\u001b[0m\u001b[0mcollections\u001b[0m\u001b[0;34m)\u001b[0m\u001b[0;34m\u001b[0m\u001b[0m\n\u001b[0m\u001b[1;32m     12\u001b[0m     \u001b[0;31m# Venn diagram of two collections\u001b[0m\u001b[0;34m\u001b[0m\u001b[0;34m\u001b[0m\u001b[0m\n\u001b[1;32m     13\u001b[0m     \u001b[0;32mdef\u001b[0m \u001b[0munion\u001b[0m \u001b[0;34m(\u001b[0m\u001b[0mself\u001b[0m\u001b[0;34m,\u001b[0m \u001b[0msets_list\u001b[0m\u001b[0;34m)\u001b[0m\u001b[0;34m:\u001b[0m\u001b[0;34m\u001b[0m\u001b[0m\n",
      "\u001b[0;32m<ipython-input-83-8dd3fa8107dd>\u001b[0m in \u001b[0;36mca\u001b[0;34m(self, collections)\u001b[0m\n\u001b[1;32m     24\u001b[0m         \u001b[0mdf\u001b[0m \u001b[0;34m=\u001b[0m \u001b[0mpd\u001b[0m\u001b[0;34m.\u001b[0m\u001b[0mDataFrame\u001b[0m\u001b[0;34m(\u001b[0m\u001b[0md\u001b[0m\u001b[0;34m)\u001b[0m\u001b[0;34m\u001b[0m\u001b[0m\n\u001b[1;32m     25\u001b[0m         \u001b[0mcounts\u001b[0m \u001b[0;34m=\u001b[0m \u001b[0mmca\u001b[0m\u001b[0;34m.\u001b[0m\u001b[0mmca\u001b[0m\u001b[0;34m(\u001b[0m\u001b[0mdf\u001b[0m\u001b[0;34m)\u001b[0m\u001b[0;34m\u001b[0m\u001b[0m\n\u001b[0;32m---> 26\u001b[0;31m         \u001b[0mdata\u001b[0m \u001b[0;34m=\u001b[0m \u001b[0mnp\u001b[0m\u001b[0;34m.\u001b[0m\u001b[0marray\u001b[0m\u001b[0;34m(\u001b[0m\u001b[0mcounts\u001b[0m\u001b[0;34m.\u001b[0m\u001b[0mL\u001b[0m\u001b[0;34m,\u001b[0m \u001b[0mcounts\u001b[0m\u001b[0;34m.\u001b[0m\u001b[0mfs_r\u001b[0m\u001b[0;34m(\u001b[0m\u001b[0;34m)\u001b[0m\u001b[0;34m)\u001b[0m\u001b[0;34m\u001b[0m\u001b[0m\n\u001b[0m\u001b[1;32m     27\u001b[0m         \u001b[0;32mreturn\u001b[0m\u001b[0;34m(\u001b[0m\u001b[0mdf\u001b[0m\u001b[0;34m)\u001b[0m\u001b[0;34m\u001b[0m\u001b[0m\n\u001b[1;32m     28\u001b[0m \u001b[0;34m\u001b[0m\u001b[0m\n",
      "\u001b[0;31mTypeError\u001b[0m: data type not understood"
     ]
    }
   ],
   "source": [
    "\n",
    "compare = Compare(all_collect)"
   ]
  },
  {
   "cell_type": "code",
   "execution_count": 86,
   "metadata": {
    "collapsed": false
   },
   "outputs": [
    {
     "name": "stdout",
     "output_type": "stream",
     "text": [
      "                0      1      2      3      4\n",
      "apple        True   True   True   True  False\n",
      "beaver      False  False   True  False  False\n",
      "google       True   True   True  False  False\n",
      "jive        False  False  False  False   True\n",
      "jump        False  False  False   True  False\n",
      "microsoft    True  False  False  False  False\n",
      "msn          True  False   True  False  False\n",
      "napster     False   True  False   True  False\n",
      "pear        False   True  False  False   True\n",
      "run         False  False  False   True  False\n",
      "saunter     False  False  False   True  False\n",
      "skunk       False  False   True   True  False\n",
      "tango       False  False  False  False   True\n",
      "thebeatles  False   True  False  False  False\n",
      "thepogues   False   True  False  False  False\n",
      "walk        False  False  False   True  False\n",
      "wolf        False  False   True  False   True\n"
     ]
    }
   ],
   "source": [
    "print (compare.ca(all_collect))"
   ]
  },
  {
   "cell_type": "code",
   "execution_count": 87,
   "metadata": {
    "collapsed": false
   },
   "outputs": [],
   "source": [
    "plt.show()"
   ]
  },
  {
   "cell_type": "raw",
   "metadata": {
    "collapsed": false
   },
   "source": [
    "\n"
   ]
  },
  {
   "cell_type": "code",
   "execution_count": null,
   "metadata": {
    "collapsed": false
   },
   "outputs": [],
   "source": []
  },
  {
   "cell_type": "code",
   "execution_count": null,
   "metadata": {
    "collapsed": true
   },
   "outputs": [],
   "source": []
  },
  {
   "cell_type": "code",
   "execution_count": null,
   "metadata": {
    "collapsed": true
   },
   "outputs": [],
   "source": []
  },
  {
   "cell_type": "code",
   "execution_count": null,
   "metadata": {
    "collapsed": true
   },
   "outputs": [],
   "source": []
  },
  {
   "cell_type": "code",
   "execution_count": null,
   "metadata": {
    "collapsed": true
   },
   "outputs": [],
   "source": []
  }
 ],
 "metadata": {
  "kernelspec": {
   "display_name": "Python 3",
   "language": "python",
   "name": "python3"
  },
  "language_info": {
   "codemirror_mode": {
    "name": "ipython",
    "version": 3
   },
   "file_extension": ".py",
   "mimetype": "text/x-python",
   "name": "python",
   "nbconvert_exporter": "python",
   "pygments_lexer": "ipython3",
   "version": "3.5.1"
  }
 },
 "nbformat": 4,
 "nbformat_minor": 0
}
