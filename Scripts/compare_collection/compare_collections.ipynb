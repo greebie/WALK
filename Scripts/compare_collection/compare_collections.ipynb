{
 "cells": [
  {
   "cell_type": "code",
   "execution_count": 3,
   "metadata": {
    "collapsed": false
   },
   "outputs": [
    {
     "data": {
      "text/plain": [
       "\"\\nThe WALK project has the challenge of taking a number of web archives collections and making them usable for historical\\n(or other) kinds of research. Web archives are a way of storing websites over time. They do this by periodically crawling \\nwebsites on different dates. For instance, your blog probably has a lot of new information today than it did five years\\nago.  A web archive would (in theory) be able to show what your blog looked like now (with a crawl date 2016) and then \\n(crawl date 2011).  The problem is what if we had a collection of all history blogs?  That's a lot of information! And\\nfiles that would store that information would be huge. \\n\\nNow imagine yourself being a graduate level historian in 2050, doing a paper on what amateur historians were interested \\nin from the period of 2011-2016. You ask\\nfor the collection of history blogs and you get a web archives file (also called a .WARC file) that's in the realm of 500\\nGigabytes or more. You might want to give up already! Fortunately, you learn that there is a tool called Warcbase \\n(http://lintool.github.io/warcbase-docs/) that will help you pull things out of the files.  For example, maybe you just\\nwant all the links used to do a network analysis.  Or perhaps you prefer just the text so you can do some word cluster \\nanalysis. It's still complex - files like these often run in the 100s of MBs. Or you can do Name-entity Recognition (NER)\\nand explore what people, locations and subjects are mentioned.\\n\\nWe still have a problem. We know that social media are full of filter bubbles.  Maybe our historian bloggers are all\\nbiased towards the same subjects! What if we could compare what those historians say and link to \\nagainst other related bloggers - say \\narcheologists, economists, political scientists, sociologists and anthropologists? \\nThen we could have a more complete view of what this world is all about. But how?\\n\\nThis Compare class is a first crack at solving this problem using (soon to be multiple!) correspondence analysis and\\nvenn diagrams. Instead of bloggers, we are looking at some web archive collections collected by the University of Alberta\\nand the University of Toronto.\\n\\n\""
      ]
     },
     "execution_count": 3,
     "metadata": {},
     "output_type": "execute_result"
    }
   ],
   "source": [
    "\"\"\"\n",
    "The WALK project has the challenge of taking a number of web archives collections and making them usable for historical\n",
    "(or other) kinds of research. Web archives are a way of storing websites over time. They do this by periodically crawling \n",
    "websites on different dates. For instance, your blog probably has a lot of new information today than it did five years\n",
    "ago.  A web archive would (in theory) be able to show what your blog looked like now (with a crawl date 2016) and then \n",
    "(crawl date 2011).  The problem is what if we had a collection of all history blogs?  That's a lot of information! And\n",
    "files that would store that information would be huge. \n",
    "\n",
    "Now imagine yourself being a graduate level historian in 2050, doing a paper on what amateur historians were interested \n",
    "in from the period of 2011-2016. You ask\n",
    "for the collection of history blogs and you get a web archives file (also called a .WARC file) that's in the realm of 500\n",
    "Gigabytes or more. You might want to give up already! Fortunately, you learn that there is a tool called Warcbase \n",
    "(http://lintool.github.io/warcbase-docs/) that will help you pull things out of the files.  For example, maybe you just\n",
    "want all the links used to do a network analysis.  Or perhaps you prefer just the text so you can do some word cluster \n",
    "analysis. It's still complex - files like these often run in the 100s of MBs. Or you can do Name-entity Recognition (NER)\n",
    "and explore what people, locations and subjects are mentioned.\n",
    "\n",
    "We still have a problem. We know that social media are full of filter bubbles.  Maybe our historian bloggers are all\n",
    "biased towards the same subjects! What if we could compare what those historians say and link to \n",
    "against other related bloggers - say \n",
    "archeologists, economists, political scientists, sociologists and anthropologists? \n",
    "Then we could have a more complete view of what this world is all about. But how?\n",
    "\n",
    "This Compare class is a first crack at solving this problem using (soon to be multiple!) correspondence analysis and\n",
    "venn diagrams. Instead of bloggers, we are looking at some web archive collections collected by the University of Alberta\n",
    "and the University of Toronto.\n",
    "\n",
    "\"\"\""
   ]
  },
  {
   "cell_type": "code",
   "execution_count": 4,
   "metadata": {
    "collapsed": false
   },
   "outputs": [],
   "source": [
    "\"\"\"\n",
    "First we get our script ready with all the libraries we need. If you know Python, you are probably familiar with\n",
    "most of these files.\n",
    "\"\"\"\n",
    "\n",
    "### For these import to work, you should have a copy of Anaconda available to you.  We are using Python 3 in this case.\n",
    "### Also, you will need to install mca and matplotlib_venn.  See the README file for more information.\n",
    "\n",
    "%matplotlib inline\n",
    "import os\n",
    "import csv\n",
    "import pandas as pd\n",
    "import numpy as np\n",
    "from matplotlib_venn import venn2, venn3\n",
    "import mca\n",
    "import matplotlib.pyplot as plt\n",
    "from collections import defaultdict\n"
   ]
  },
  {
   "cell_type": "code",
   "execution_count": 26,
   "metadata": {
    "collapsed": false
   },
   "outputs": [],
   "source": [
    "###################################\n",
    "## The main class\n",
    "###################################\n",
    "\n",
    "class Compare:\n",
    "    \"\"\" \n",
    "    Compare -- plot collections for comparison purposes.\n",
    "    \n",
    "    Description:\n",
    "        The purpose of this class is to take a series of collections and plot them so to show how they match.\n",
    "        If the series is a dictionary, the keys will be used to create plot names.\n",
    "        If the series contains two or three collections, then the plot will show venn diagrams and return a venn object\n",
    "        that can be used for other purposes.\n",
    "        If the series is greater than three, the plot will show the collections in a scatter plot based on correspondence\n",
    "        scores.\n",
    "    \n",
    "    Parameters: \n",
    "        collections (required):  A list of lists or a dict() of size 2 or greater for comparison purposes. \n",
    "        names:  An optional list of names for the collections.  Must be equal in size to collections. If collections is \n",
    "            a dict, this parameter will be overwritten.\n",
    "        index:  A list of index keys to create a sublist for the collections.\n",
    "        var: An optional list for further categorization of the collection data (not fully implemented yet).\n",
    "        REMOVE_SINGLES: (Default:True) For 4 collections or more, remove from the analysis any data points that are\n",
    "            members of only one collection. This reduces the chance that a disproportionately large collection\n",
    "            will be seen as an outlier merely because it is disproportionately large.\n",
    "            \n",
    "    \"\"\"\n",
    "    \n",
    "    def __init__ (self, collections, names=[], index=[], var=[], REMOVE_SINGLES=True, LABEL_BOTH_FACTORS=False):\n",
    "        self.collection_names = names\n",
    "        self.index = index\n",
    "        self.collections = collections\n",
    "        self.REMOVE_SINGLES = REMOVE_SINGLES\n",
    "        self.LABEL_BOTH_FACTORS = LABEL_BOTH_FACTORS\n",
    "        self.dimensions = None\n",
    "        #self.cur_depth = self.recur_len(self.collections)\n",
    "        if isinstance(self.collections, dict):\n",
    "            # print(\"dict passed\")\n",
    "            self.collection_names = [x for x in self.collections.keys()]\n",
    "            self.collections = [x for x in self.collections.values()]\n",
    "        #print(type([y[0] for y in self.collections][0]))\n",
    "        # if a dictionary is inputed, then get names from dictionary\n",
    "        if type([y[0] for y in self.collections][0]) is tuple: #will need to include checks for size of sample \n",
    "            print (\"yay mca\")\n",
    "            self.collection_names = list(set([x[0] for y in self.collections for x in y]))            \n",
    "            if self.index:\n",
    "                self.collections = self.sublist(self.collections, self.index)\n",
    "                self.collection_names = self.sublist(self.collection_names, self.index)\n",
    "            self.mca(self.collections, self.collection_names)\n",
    "        else:            \n",
    "            #self.collections = dict([(x[0], x[1]) for y in self.collections for x in y])\n",
    "            if not self.collection_names:\n",
    "                self.collection_names = range(1, len(self.collections)+1)\n",
    "            # if index var is provided, use index to filter collection list\n",
    "            if self.index:\n",
    "                self.collections = self.sublist(self.collections, self.index)\n",
    "                self.collection_names = self.sublist(self.collection_names, self.index)\n",
    "        #two sample venn\n",
    "            if len(self.collections) == 2:\n",
    "                self.response = self.two_venn(self.collections)\n",
    "        #three sample venn\n",
    "            elif len(self.collections) == 3:\n",
    "                self.response = self.three_venn(self.collections)\n",
    "        #use mca for greater than three\n",
    "            elif len(self.collections) >3:\n",
    "                if var:\n",
    "                    self.var = var\n",
    "                else: \n",
    "                    self.var = []\n",
    "                self.ca = self.ca(self.collections, self.collection_names)\n",
    "            else:\n",
    "                self.no_compare()\n",
    "    def recur_len(self, L):\n",
    "        return sum(L + recur_len(item) if isinstance(item,list) else L for item in L)   \n",
    "    def no_compare(self):\n",
    "        return (\"Need at least two collections to compare results.\")\n",
    "    #get a sublist from a list of indices\n",
    "    def sublist (self, list1, list2):\n",
    "        return([list1[x] for x in list2])        \n",
    "    #get set of all items (unduplicated)\n",
    "    def unionize (self, sets_list):\n",
    "        return set().union(*sets_list)\n",
    "    def two_venn (self, collections):\n",
    "        self.V2_AB = set(collections[0]).intersection(set(collections[1]))\n",
    "        return  (venn2([set(x) for x in collections], set_labels=self.collection_names))\n",
    "    def three_venn (self, collections):\n",
    "        self.V3_ABC = set(collections[0]) & set(collections[1]) & set(collections[2]) \n",
    "        self.V3_AB = set(collections[0]) & set(collections[1]) - self.V3_ABC\n",
    "        self.V3_BC = set(collections[1]) & set(collections[2]) - self.V3_ABC\n",
    "        self.V3_AC = set(collections[0]) & set(collections[2]) - self.V3_ABC\n",
    "        self.V3_A = set(collections[0]) - (self.V3_ABC | self.V3_AB | self.V3_AC )\n",
    "        self.V3_B = set(collections[1]) - (self.V3_ABC | self.V3_AB | self.V3_BC )\n",
    "        self.V3_C = set(collections[2]) - (self.V3_ABC | self.V3_BC | self.V3_AC )\n",
    "        return  (venn3([set(x) for x in collections], set_labels=self.collection_names))\n",
    "    def ca(self, collections, names):\n",
    "        # use dd to create a list of all websites in the collections\n",
    "        print (names)\n",
    "        dd = self.unionize(collections)\n",
    "        d = [] #create\n",
    "        e = []\n",
    "        #labels\n",
    "        fs, cos, cont = 'Factor Score', 'Squared cosines', 'Contributions x 1000'\n",
    "        #populate table with matches for actors (weblists)\n",
    "        for y in collections:\n",
    "            d.append({x: x in y for x in dd})\n",
    "        #if self.var:\n",
    "        #    e = ({x.split(\".\")[0]: x.split(\".\")[1] for x in dd })\n",
    "        df = pd.DataFrame(d, index=names)       \n",
    "        if self.REMOVE_SINGLES:\n",
    "            df = df.loc[:, df.sum(0) >1 ]\n",
    "        #if self.var:\n",
    "        #    df.loc[:,\"SUFFIX\"] = pd.Series(e, index=df.index)\n",
    "        self.response = df.T\n",
    "        counts = mca.mca(df)\n",
    "        self.dimensions = counts.L\n",
    "        data = pd.DataFrame(columns=df.index, index=pd.MultiIndex\n",
    "                      .from_product([[fs, cos, cont], range(1, 3)]))\n",
    "        data.loc[fs,    :] = counts.fs_r(N=2).T\n",
    "        points = data.loc[fs].values\n",
    "        urls = counts.fs_c(N=2).T\n",
    "        clabels = data.columns.values\n",
    "        plt.figure(figsize=(10,10))\n",
    "        plt.margins(0.1)\n",
    "        plt.axhline(0, color='gray')\n",
    "        plt.axvline(0, color='gray')\n",
    "        plt.xlabel('Factor 1 (' + str(round(self.dimensions[0], 3)*100) + '%)') \n",
    "        plt.ylabel('Factor 2 (' + str(round(self.dimensions[1], 3)*100) + '%)')\n",
    "        plt.scatter(*points,  s=120, marker='o', c='r', alpha=.5, linewidths=0)\n",
    "        plt.scatter(*urls,  s=120, marker='s', c='b', alpha=.5, linewidths=0)\n",
    "        for label, x, y in zip(clabels, *points):\n",
    "            plt.annotate(label, xy=(x, y), xytext=(x + .03, y + .03))\n",
    "        if self.LABEL_BOTH_FACTORS:\n",
    "            rlabels = df.T.index\n",
    "            for label, x, y in zip(rlabels, *urls):\n",
    "                plt.annotate(label, xy=(x, y), xytext=(x + .03, y + .03))\n",
    "        plt.show()\n",
    "        return(data.T)\n",
    "    \n",
    "    def mca(self, collections, names):\n",
    "        #print ([x[2] for y in collections for x in y][0:3])\n",
    "        default = defaultdict(list)\n",
    "        coll = defaultdict(list)\n",
    "        src_index, var_index, d = [], [], []\n",
    "        for x in collections:\n",
    "            for y,k,v in x:\n",
    "                default[y+'%'+k].append(v)\n",
    "        #print(list(default)[0:3])\n",
    "        dd = self.unionize([j for y, j in default.items()])\n",
    "        #print (dd)\n",
    "        for key, val in default.items():\n",
    "            #print (key)\n",
    "            keypair = key.split(\"%\")\n",
    "            collect, year = keypair[0], keypair[1]\n",
    "            coll[collect].append(year)\n",
    "            d.append({url: url in val for url in dd})\n",
    "        for happy, sad in coll.items():\n",
    "            src_index = (src_index + [happy] * len(sad))\n",
    "        #src_index = (happy * len(sad) for happy, sad in coll.items())\n",
    "            var_index = (var_index + sad)\n",
    "        col_index = pd.MultiIndex.from_arrays([src_index, var_index], names=[\"Collection\", \"Date\"])\n",
    "        #X = {x for x in (self.unionize(collections))}\n",
    "        table1 = pd.DataFrame(data=d, index=col_index, columns=dd)\n",
    "        if self.REMOVE_SINGLES:\n",
    "            table1 = table1.loc[:, table1.sum(0) >1 ]\n",
    "        table2 = mca.mca(table1)\n",
    "        self.response = table1\n",
    "        self.dimensions = table2.L \n",
    "        #print(table2.inertia)\n",
    "        fs, cos, cont = 'Factor score','Squared cosines', 'Contributions x 1000'\n",
    "        data = pd.DataFrame(columns=table1.index, index=pd.MultiIndex\n",
    "                      .from_product([[fs, cos, cont], range(1, 3)]))\n",
    "        data.loc[fs,    :] = table2.fs_r(N=2).T\n",
    "        #print(data.loc[fs, :])\n",
    "\n",
    "        #print(points)\n",
    "        urls = table2.fs_c(N=2).T\n",
    "        plabels = var_index\n",
    "        \n",
    "        noise = 0.07 * (np.random.rand(*data.T[fs].shape) - 0.5)\n",
    "        fs_by_source = data.T[fs].add(noise).groupby(level=['Collection'])\n",
    "        fs_by_date = data.T[fs]\n",
    "        dpoints = data.loc[fs].values\n",
    "        fig, ax = plt.subplots(figsize=(10,10))\n",
    "\n",
    "        plt.margins(0.1)\n",
    "        plt.axhline(0, color='gray')\n",
    "        plt.axvline(0, color='gray')\n",
    "        plt.xlabel('Factor 1 (' + str(round(self.dimensions[0], 3)*100) + '%)')\n",
    "        plt.ylabel('Factor 2 (' + str(round(self.dimensions[1], 3)*100) + '%)')\n",
    "        ax.margins(0.1)\n",
    "        markers = '^', 's', 'o', 'o', 'v', \"<\", \">\", \"p\", \"8\", \"h\"\n",
    "        colors = 'r', 'g', 'b', 'y', 'orange', 'peachpuff', 'm', 'c', 'k', 'navy'\n",
    "        for fscore, marker, color in zip(fs_by_source, markers, colors):\n",
    "            #print(type(fscore[1]))\n",
    "            label, points = fscore\n",
    "            ax.plot(*points.T.values, marker=marker, color=color, label=label, linestyle='', alpha=.5, mew=0, ms=12)\n",
    "            for plabel, x, y in zip(plabels, *dpoints):\n",
    "                #print(plabel)\n",
    "                #print(xy)\n",
    "                plt.annotate(plabel, xy=(x, y), xytext=(x + .15, y + .15))\n",
    "        ax.legend(numpoints=1, loc=4)\n",
    "        plt.show()\n",
    "        "
   ]
  },
  {
   "cell_type": "code",
   "execution_count": 23,
   "metadata": {
    "collapsed": false
   },
   "outputs": [
    {
     "name": "stdout",
     "output_type": "stream",
     "text": [
      "These are the files that have been accessed through this script:\n",
      "\n",
      "\n",
      "elxn42-all.txt\n",
      "health_sciences_grey_literature-all.txt\n",
      "canadian_business_grey_literature-all.txt\n",
      "web_archive_general-all.txt\n",
      "alberta_floods_2013-all.txt\n",
      "heritage_community_foundation-all.txt\n",
      "hcf_alberta_online_encyclopedia-all.txt\n",
      "alberta_education_curriculum-all.txt\n",
      "alberta_oil_sands-all.txt\n",
      "humanities_computing-all.txt\n",
      "idle_no_more-all-urls.txt\n",
      "ottawa_shooting_october_2014-all.txt\n",
      "energy_environment-all.txt\n",
      "prarie_provinces-all.txt\n",
      "canadian_political_parties.txt\n",
      "lfrancophonie_de_louest_canadien-all.txt\n"
     ]
    }
   ],
   "source": [
    "\"\"\"\n",
    "We ran a number of web archive WARC files through Warcbase, requesting dates, links and the counts (this tells us the most\n",
    "popular links, but also helps us to remove duplicates). We've stored this data in a folder called \"assembled.\"\n",
    "\n",
    "These archives include examples of tweets from the Alberta Provincial Election #42. This election was interesting because\n",
    "it represented a shift from long-standing Conservative governments to a more left-leaning NDP.  Other important events were \n",
    "recorded for Idle No More and the Ottawa Shooting on October 2014.\n",
    "\n",
    "There are also archives that\n",
    "contain grey literature from the Humanities, Health Sciences and Canadian Business. \n",
    "\n",
    "And then there are some more general archives.  For instance, Canadian Political Parties, Energy and the Environment\n",
    "and Humanities Computing.\n",
    "\n",
    "The first three results from each output looks something like this:\n",
    "\n",
    "(([CRAWL DATE], link), count)\n",
    " \n",
    "((201601,linkis.com),11102), \n",
    "((201601,m.youtube.com),8764),\n",
    "((201601,www.youtube.com),7481)\n",
    "\n",
    "This gives us the ability to compare the different archive collections through links.  (Later this description will\n",
    "contain examples that use the dates as well.)\n",
    "\n",
    "\"\"\"\n",
    "\n",
    "#initialise vars:\n",
    "collection = dict()\n",
    "collection_2 = dict()\n",
    "var = dict()\n",
    "\n",
    "#establish the data folder\n",
    "path = \"assembled/\"\n",
    "\n",
    "#get the files\n",
    "\n",
    "print (\"These are the files that have been accessed through this script:\\n\\n\")\n",
    "for filename in os.listdir(path):\n",
    "    with open(path+filename, \"r\") as file:\n",
    "        print(filename)\n",
    "        #split the data by comma and lose the closing url. Put it in a set to remove duplicates.\n",
    "        collect = {line.translate(str.maketrans(')',\" \")).split(\",\")[1] for line in file.readlines()}\n",
    "        # result:  {'www.url1.suf', 'www.biglovely.url2.suf', 'education.url3.suf'}\n",
    "        collect2 = [x.split(\".\")[-2]+\".\"+x.split(\".\")[-1] for x in collect]\n",
    "        # result: ['url1.suf', 'url2.suf', 'url3.suf']  (this decreases scope of analysis - removes \"education\" \n",
    "        # in education.ab.ca), for example.\n",
    "        collect4 = [x for x in collect]\n",
    "        # result merely converts each set to a big list of urls. (Full scope of analysis)\n",
    "        collection[filename[0:10]] = (collect2) #convert collect2 to a dict {truncatedFILENAME: [url1.suf, url2.suf, url3.suf]}\n",
    "        collection_2[filename[0:10]] = (collect4) #convert collect4 to a dict.\n",
    "\n",
    "#Just separate the names and values for now.\n",
    "comparit = [x for x in collection_2.values()]\n",
    "names = [x.upper() for x in collection_2.keys()]"
   ]
  },
  {
   "cell_type": "code",
   "execution_count": 213,
   "metadata": {
    "collapsed": false
   },
   "outputs": [
    {
     "name": "stdout",
     "output_type": "stream",
     "text": [
      "Links in Common (there are 19) : {'newrelic.com ', 'dublincore.org ', 'w3.org ', 'addthis.com ', 'facebook.com ', 'wordpress.org ', 'google-analytics.com ', 'ab.ca ', 'gc.ca ', 'bc.ca ', 'purl.org ', 'schema.org ', 'adobe.com ', 'alberta.ca ', 'google.com ', 'youtube.com ', 'apple.com ', 'gmpg.org ', 'w.org '}\n"
     ]
    },
    {
     "data": {
      "image/png": "[encoded data removed]",
      "text/plain": [
       "<matplotlib.figure.Figure at 0x7f6071846668>"
      ]
     },
     "metadata": {},
     "output_type": "display_data"
    }
   ],
   "source": [
    "\"\"\" \n",
    "Since the variable \"collection\" has 16 different archives, we can use the index variable to choose two. When you \n",
    "have two collections, then Compare will provide you with a venn diagram with two variables.\n",
    "\n",
    "You can find out the content inside the circles by using V2_[A, B or AB].\n",
    "\n",
    "\n",
    "(V2_A (V2_AB) V2_B)\n",
    "\n",
    "\"\"\"\n",
    "\n",
    "#Two collections will produce a two-way Venn diagram showing the cross over in terms of links.\n",
    "#Since collection is a dict() no need to include names.\n",
    "compare1 = Compare(collection, index=[4,7])\n",
    "print(\"Links in Common (there are \"+ str(len(compare1.V2_AB)) + \") : \" + str(compare1.V2_AB))"
   ]
  },
  {
   "cell_type": "code",
   "execution_count": 214,
   "metadata": {
    "collapsed": false
   },
   "outputs": [
    {
     "name": "stdout",
     "output_type": "stream",
     "text": [
      "Links that both collections have in common: newrelic.com , dublincore.org , w3.org , addthis.com , facebook.com , wordpress.org , google-analytics.com , ab.ca , gc.ca , bc.ca , purl.org , schema.org , adobe.com , alberta.ca , google.com , youtube.com , apple.com , gmpg.org , w.org \n"
     ]
    },
    {
     "data": {
      "image/png": "[encoded data removed]",
      "text/plain": [
       "<matplotlib.figure.Figure at 0x7f60787a5da0>"
      ]
     },
     "metadata": {},
     "output_type": "display_data"
    }
   ],
   "source": [
    "#Although you can add your own names if you want to ...  (recall \"names\" is x.upper()))\n",
    "\n",
    "compare1 = Compare(collection, names=names, index=[4,7] )\n",
    "print(\"Links that both collections have in common: \" + \", \".join(compare1.V2_AB))"
   ]
  },
  {
   "cell_type": "code",
   "execution_count": 215,
   "metadata": {
    "collapsed": false
   },
   "outputs": [
    {
     "name": "stdout",
     "output_type": "stream",
     "text": [
      "Links that all collections have in common: www.youtube.com \n"
     ]
    },
    {
     "data": {
      "image/png": "[encoded data removed]",
      "text/plain": [
       "<matplotlib.figure.Figure at 0x7f60786215c0>"
      ]
     },
     "metadata": {},
     "output_type": "display_data"
    }
   ],
   "source": [
    "# What happens with three collections\n",
    "compare2 = Compare(comparit, names, [2,0,5])\n",
    "print(\"Links that all collections have in common: \" + ', '.join(compare2.V3_ABC))"
   ]
  },
  {
   "cell_type": "code",
   "execution_count": 24,
   "metadata": {
    "collapsed": false
   },
   "outputs": [
    {
     "name": "stdout",
     "output_type": "stream",
     "text": [
      "['humanities', 'alberta_fl', 'ottawa_sho', 'web_archiv', 'alberta_ed', 'energy_env']\n"
     ]
    },
    {
     "data": {
      "image/png": "[encoded data removed]",
      "text/plain": [
       "<matplotlib.figure.Figure at 0x7f9a4ef10710>"
      ]
     },
     "metadata": {},
     "output_type": "display_data"
    }
   ],
   "source": [
    "\"\"\"\n",
    "When four or more collections are added, we switch to correspondence analysis. Correspondence analysis is a \n",
    "popular way to visualize relationships under two categories.  In our case, we have the collections and the\n",
    "links contained (or not contained) within the them. \n",
    "\n",
    "In this case, the collections have been named and are represented by red circles.  The blue squares represent links that\n",
    "two or more of the collections have in common, I have not included names here because there are too many.\n",
    "\n",
    "Focussing on the red circles, when two collections are close together in the analysis they tend to have more links\n",
    "in common. \n",
    "\n",
    "You can also consider the dimensions. In theory, there are as many dimensions of analysis as there are collections.\n",
    "In practice, you can only show the top two most explanatory dimensions (see inertia scores below).  The dimensions \n",
    "sometimes can demonstrate factors in real life.  For example, in the example below, we have the Ottawa shootings on \n",
    "one side of the horizontal axis, and heritage community on the other so it appears that there is a dimension that \n",
    "ranges from federal focus (left of the y axis) to Alberta focus (right of the y axis).\n",
    "\n",
    "On the vertical axis, it seems like you have prairie province related materials. More study would be necessary, but \n",
    "perhaps this is a dimension for grassroots related collections versus more organizational focussed ones.\n",
    "\n",
    "Because you have these axes, one can also examine the quadrants as representing some aspect of the collections. \n",
    "Top left is empty.  Top right is prairie province related.  Bottom right is Alberta-focussed.  Bottom left is federal /\n",
    "Canada wide.\n",
    "\n",
    "There are also some percentage scores associated with each factor.  Given that we are seeing only 10.9 & 11%\n",
    "respectively, perhaps some other form of analysis would be more effective than links.\n",
    "\n",
    "From a collection evaluation perspective, it might be worth examining the prairie provinces and idle no more \n",
    "collections for significant cross-over, or perhaps to ensure that they have some cross-references. However, some\n",
    "caution is necessary to ensure that the cross-over occurs due to meaningful reasons rather than some accident of \n",
    "Internet behavior (eg. maybe YouTube is used more frequently by those collections).\n",
    "\n",
    "\"\"\"\n",
    "\n",
    "# With more than three collections, the output switches to correspondence analysis.\n",
    "# Katherine Faust offers a great overview of the method here:\n",
    "# www.socsci.uci.edu/~kfaust/faust/research/articles/articles.htm\n",
    "\n",
    "# In this case, we've eliminated a few items from the analysis.\n",
    "\n",
    "compare3 = Compare(collection, names, [i for i, x in enumerate(collection) if i not in [1,3,4,5,7,10,11,12,13,14]])"
   ]
  },
  {
   "cell_type": "code",
   "execution_count": 217,
   "metadata": {
    "collapsed": false
   },
   "outputs": [
    {
     "name": "stdout",
     "output_type": "stream",
     "text": [
      "[0.111, 0.10100000000000001, 0.055, 0.048000000000000001, 0.0080000000000000002]\n",
      "Inertia: 0.322701944391\n"
     ]
    }
   ],
   "source": [
    "\"\"\"\n",
    "Inertia is somewhat like an R-squared score for a correspondence graph.  The overall inertia is only 40%, so quite low.\n",
    "However, the third and fourth dimensions of analysis also seem about as relevant and the first and second.\n",
    "\n",
    "Later developments will show how to look at the correspondence from these perspectives as well.\n",
    "\"\"\"\n",
    "\n",
    "# Compare.dimensions store factor values for all the dimensions.  The top two dimensions are shown in the graph above.\n",
    "# Inertia or the total explantory value of the graph is the sum of all these values.\n",
    "print ([round(x,3) for x in compare3.dimensions])\n",
    "print (\"Inertia: \" + str(sum(compare3.dimensions)))"
   ]
  },
  {
   "cell_type": "code",
   "execution_count": 218,
   "metadata": {
    "collapsed": false
   },
   "outputs": [
    {
     "name": "stdout",
     "output_type": "stream",
     "text": [
      "                          hcf_albert lfrancopho energy_env web_archiv  \\\n",
      "alberta.ca                      True       True       True       True   \n",
      "albertahealthservices.ca       False       True      False       True   \n",
      "albertasource.ca                True      False      False       True   \n",
      "aljazeera.com                  False       True      False       True   \n",
      "amazon.com                      True       True      False       True   \n",
      "\n",
      "                          canadian_p humanities  \n",
      "alberta.ca                     False      False  \n",
      "albertahealthservices.ca       False      False  \n",
      "albertasource.ca               False      False  \n",
      "aljazeera.com                  False      False  \n",
      "amazon.com                      True      False  \n"
     ]
    }
   ],
   "source": [
    "# Compare.response stores the table that these scores are based on (I've selected only 5 items for clarity)\n",
    "#If REMOVE_SINGLES is not FALSE, then no row should contain fewer than two \"TRUES\".\n",
    "\n",
    "print (compare3.response[10:15])"
   ]
  },
  {
   "cell_type": "code",
   "execution_count": 219,
   "metadata": {
    "collapsed": false
   },
   "outputs": [
    {
     "name": "stdout",
     "output_type": "stream",
     "text": [
      "CPP-201508-locations.csv\n",
      "CPP-201511-locations.csv\n",
      "ELXN42-201601-locations.csv\n"
     ]
    }
   ],
   "source": [
    "\"\"\"\n",
    "Let's do the same thing with a different dataset:\n",
    " \n",
    " Name Entity Recognition (NER) offers a way of identifying locations named within the collections.  \n",
    " So we have data in csv format like this:\n",
    " \n",
    "CPP 201508,Sum of Frequency\n",
    "Canada ,283162\n",
    "Ontario ,34197\n",
    "United States,32008\n",
    "Ottawa ,30233\n",
    "Toronto ,18787\n",
    "Alberta,17015\n",
    "British Columbia ,13181\n",
    "Manitoba,11332\n",
    "Hawaiian ,10110\n",
    "QUEBEC,9633\n",
    "Vancouver,9442\n",
    "\n",
    "\"\"\"\n",
    "\n",
    "\n",
    "#initialise vars:\n",
    "loc_collection = dict()\n",
    "loc_collection_2 = dict()\n",
    "loc_var = dict()\n",
    "\n",
    "#establish the data folder\n",
    "loc_path = \"../../NER/\"\n",
    "\n",
    "#get the files\n",
    "for loc_filename in os.listdir(loc_path):\n",
    "    with open(loc_path+loc_filename, \"r\", encoding=\"utf-8\", errors=\"ignore\") as loc_file:\n",
    "        print(loc_filename)\n",
    "        loc_collect = [row[0] for row in csv.reader(loc_file)]\n",
    "        loc_collection[loc_filename[0:10]] = (loc_collect)\n",
    "\n",
    "\n",
    "#Just separate the names and values for now.\n",
    "loc_comparit = [x for x in loc_collection.values()]\n",
    "loc_names = [x.upper() for x in loc_collection.keys()]"
   ]
  },
  {
   "cell_type": "code",
   "execution_count": 220,
   "metadata": {
    "collapsed": false
   },
   "outputs": [
    {
     "data": {
      "image/png": "[encoded data removed]",
      "text/plain": [
       "<matplotlib.figure.Figure at 0x7f6072513dd8>"
      ]
     },
     "metadata": {},
     "output_type": "display_data"
    }
   ],
   "source": [
    "loc_compare_1 = Compare(loc_collection)\n",
    "#print (\"Locations in all Three collections: \\n\\n\" + \", \".join(loc_compare_1.V3_ABC) + \"\\n ... \\n\")\n",
    "#print (\"in Just the First (top Left): \\n\\n\" + \", \".join(loc_compare_1.V3_A) + \"\\n ... \\n\")\n",
    "#print (\"in top left and bottom \\(purple section\\): \\n\\n\" + \", \".join(loc_compare_1.V3_AC) + \"\\n ... \\n\")\n",
    "#print (\"in top right and bottom \\(light blue\\): \\n\\n\" + \", \".join(loc_compare_1.V3_BC) + \"\\n ... \\n\")"
   ]
  },
  {
   "cell_type": "code",
   "execution_count": 221,
   "metadata": {
    "collapsed": false
   },
   "outputs": [
    {
     "name": "stdout",
     "output_type": "stream",
     "text": [
      "elxn42-all.txt\n",
      "health_sciences_grey_literature-all.txt\n",
      "canadian_business_grey_literature-all.txt\n",
      "web_archive_general-all.txt\n",
      "alberta_floods_2013-all.txt\n",
      "heritage_community_foundation-all.txt\n",
      "hcf_alberta_online_encyclopedia-all.txt\n",
      "alberta_education_curriculum-all.txt\n",
      "alberta_oil_sands-all.txt\n",
      "humanities_computing-all.txt\n",
      "idle_no_more-all-urls.txt\n",
      "ottawa_shooting_october_2014-all.txt\n",
      "energy_environment-all.txt\n",
      "prarie_provinces-all.txt\n",
      "canadian_political_parties.txt\n",
      "lfrancophonie_de_louest_canadien-all.txt\n"
     ]
    },
    {
     "data": {
      "text/plain": [
       "' This produces something like this:\\n[ { (COLLECTION_NAME, DATE, URL)}]  (the {} is to make it unique.)\\n\\n'"
      ]
     },
     "execution_count": 221,
     "metadata": {},
     "output_type": "execute_result"
    }
   ],
   "source": [
    "\"\"\" \n",
    "Now let\\'s try to use the dates in our analysis.  This brings up the power a little to use multiple correspondence \n",
    "analysis.\n",
    "\n",
    "((201601,linkis.com),11102), \n",
    "((201601,m.youtube.com),8764),\n",
    "((201601,www.youtube.com),7481)\n",
    "\n",
    "\"\"\"\n",
    "\n",
    "#initialise vars:\n",
    "dat_collection = dict()\n",
    "dat_collection_2 = dict()\n",
    "dat_var = dict()\n",
    "dat_collect = dict()\n",
    "#establish the data folder\n",
    "dat_path = \"assembled/\"\n",
    "urls = []\n",
    "\n",
    "#get the files\n",
    "for dat_filename in os.listdir(dat_path):\n",
    "    with open(dat_path+dat_filename, \"r\") as dat_file:\n",
    "        print (dat_filename)\n",
    "        urls.append(list({(dat_filename[0:10], line.translate(str.maketrans(')',\" \")).split(\",\")[0][2:6], line.translate(str.maketrans(')',\" \")).split(\",\")[1]) for line in dat_file.readlines()}))\n",
    "\n",
    "\"\"\" This produces something like this:\n",
    "[ { (COLLECTION_NAME, DATE, URL)}]  (the {} is to make it unique.)\n",
    "\n",
    "\"\"\""
   ]
  },
  {
   "cell_type": "code",
   "execution_count": 222,
   "metadata": {
    "collapsed": false
   },
   "outputs": [
    {
     "name": "stdout",
     "output_type": "stream",
     "text": [
      "yay mca\n"
     ]
    },
    {
     "data": {
      "image/png": "[encoded data removed]",
      "text/plain": [
       "<matplotlib.figure.Figure at 0x7f607284c828>"
      ]
     },
     "metadata": {},
     "output_type": "display_data"
    },
    {
     "name": "stdout",
     "output_type": "stream",
     "text": [
      "[  7.42573991e-01   7.09111089e-01   6.54544371e-01   5.04112497e-01\n",
      "   3.73895614e-01   2.53858531e-01   2.46764536e-01   1.92372552e-01\n",
      "   1.28267468e-01   1.19078760e-01   9.87132274e-02   9.15166613e-02\n",
      "   8.65010102e-02   7.32555773e-02   6.55122320e-02   6.14897740e-02\n",
      "   5.67263574e-02   5.41532268e-02   4.79922522e-02   3.99529778e-02\n",
      "   3.85953016e-02   3.49825867e-02   3.35676173e-02   1.55765097e-02\n",
      "   1.22464750e-02   9.29235299e-03   7.15620360e-03   3.62699043e-03\n",
      "   2.66510988e-03   1.91655615e-03   5.33673696e-04]\n",
      "                www.masslive.com  archive.org  www.collective-evolution.com   \\\n",
      "Collection Date                                                                \n",
      "health_sci 2014             False        False                         False   \n",
      "           2012             False        False                         False   \n",
      "           2015              True         True                          True   \n",
      "           2013             False        False                         False   \n",
      "hcf_albert 2012             False        False                         False   \n",
      "           2013             False        False                         False   \n",
      "           2010             False         True                         False   \n",
      "alberta_oi 2014             False        False                         False   \n",
      "heritage_c 2009             False        False                         False   \n",
      "           2010             False        False                         False   \n",
      "\n",
      "                www.ryot.org  www.whitehouse.gov  www.mediaite.com   \\\n",
      "Collection Date                                                       \n",
      "health_sci 2014         False               False             False   \n",
      "           2012         False               False             False   \n",
      "           2015          True                True              True   \n",
      "           2013         False               False             False   \n",
      "hcf_albert 2012         False               False             False   \n",
      "           2013         False               False             False   \n",
      "           2010         False               False             False   \n",
      "alberta_oi 2014         False               False             False   \n",
      "heritage_c 2009         False               False             False   \n",
      "           2010         False               False             False   \n",
      "\n",
      "                tidescanada.org  blindkamikadze.livejournal.com   \\\n",
      "Collection Date                                                    \n",
      "health_sci 2014            False                           False   \n",
      "           2012            False                           False   \n",
      "           2015             True                           False   \n",
      "           2013            False                           False   \n",
      "hcf_albert 2012            False                           False   \n",
      "           2013            False                           False   \n",
      "           2010            False                           False   \n",
      "alberta_oi 2014            False                           False   \n",
      "heritage_c 2009            False                           False   \n",
      "           2010            False                           False   \n",
      "\n",
      "                www.redbubble.com  flickr.com        ...         \\\n",
      "Collection Date                                      ...          \n",
      "health_sci 2014              False       False       ...          \n",
      "           2012              False       False       ...          \n",
      "           2015               True       False       ...          \n",
      "           2013              False       False       ...          \n",
      "hcf_albert 2012              False       False       ...          \n",
      "           2013              False       False       ...          \n",
      "           2010              False       False       ...          \n",
      "alberta_oi 2014              False       False       ...          \n",
      "heritage_c 2009              False        True       ...          \n",
      "           2010              False       False       ...          \n",
      "\n",
      "                ca.omg.yahoo.com  www.nationalpost.com  www.cia.gov   \\\n",
      "Collection Date                                                        \n",
      "health_sci 2014             False                 False        False   \n",
      "           2012             False                 False        False   \n",
      "           2015             False                  True         True   \n",
      "           2013             False                 False        False   \n",
      "hcf_albert 2012             False                 False        False   \n",
      "           2013             False                 False        False   \n",
      "           2010             False                 False        False   \n",
      "alberta_oi 2014             False                 False        False   \n",
      "heritage_c 2009              True                  True        False   \n",
      "           2010             False                 False        False   \n",
      "\n",
      "                www.elections.ca  www.thejournal.ie  www.ingentaconnect.com   \\\n",
      "Collection Date                                                                \n",
      "health_sci 2014             False              False                   False   \n",
      "           2012             False              False                   False   \n",
      "           2015              True               True                   False   \n",
      "           2013             False              False                   False   \n",
      "hcf_albert 2012             False              False                   False   \n",
      "           2013             False              False                   False   \n",
      "           2010             False              False                   False   \n",
      "alberta_oi 2014             False              False                   False   \n",
      "heritage_c 2009             False              False                   False   \n",
      "           2010             False              False                   False   \n",
      "\n",
      "                www.edson.ca  www.alaskadispatch.com  flex.atdmt.com   \\\n",
      "Collection Date                                                         \n",
      "health_sci 2014          True                   False           False   \n",
      "           2012         False                   False           False   \n",
      "           2015         False                   False           False   \n",
      "           2013         False                   False           False   \n",
      "hcf_albert 2012         False                   False           False   \n",
      "           2013         False                   False           False   \n",
      "           2010         False                   False           False   \n",
      "alberta_oi 2014         False                   False           False   \n",
      "heritage_c 2009         False                   False           False   \n",
      "           2010         False                   False           False   \n",
      "\n",
      "                pubs.lemonde.fr   \n",
      "Collection Date                   \n",
      "health_sci 2014            False  \n",
      "           2012            False  \n",
      "           2015            False  \n",
      "           2013            False  \n",
      "hcf_albert 2012            False  \n",
      "           2013            False  \n",
      "           2010            False  \n",
      "alberta_oi 2014            False  \n",
      "heritage_c 2009             True  \n",
      "           2010            False  \n",
      "\n",
      "[10 rows x 3868 columns]\n"
     ]
    }
   ],
   "source": [
    "\"\"\"  This provides a graph that shows the dates (labels) in action by collection (shape/color).  It is also possible to show the \n",
    "collections by date if desired.\n",
    "\"\"\"\n",
    "\n",
    "compare4 = Compare(urls, index=[0,1,2,3,4,5,6,7,8,9,10])\n",
    "print(compare4.dimensions)\n",
    "print(compare4.response[0:10])"
   ]
  },
  {
   "cell_type": "code",
   "execution_count": 1,
   "metadata": {
    "collapsed": false
   },
   "outputs": [
    {
     "name": "stderr",
     "output_type": "stream",
     "text": [
      "EEEE"
     ]
    },
    {
     "name": "stdout",
     "output_type": "stream",
     "text": [
      "test results for more than three\n",
      "test error with one collection\n",
      "test results for three\n",
      "test results for two collections\n"
     ]
    },
    {
     "name": "stderr",
     "output_type": "stream",
     "text": [
      "\n",
      "======================================================================\n",
      "ERROR: test_all (__main__.CompareTests)\n",
      "----------------------------------------------------------------------\n",
      "Traceback (most recent call last):\n",
      "  File \"<ipython-input-1-4488d75fad46>\", line 40, in test_all\n",
      "    test=Compare(self.all_collect, names=[\"ONE\", \"TWO\", \"THREE\", \"FOUR\", \"FIVE\", \"SIX\"], REMOVE_SINGLES=False)\n",
      "NameError: name 'Compare' is not defined\n",
      "\n",
      "======================================================================\n",
      "ERROR: test_one (__main__.CompareTests)\n",
      "----------------------------------------------------------------------\n",
      "Traceback (most recent call last):\n",
      "  File \"<ipython-input-1-4488d75fad46>\", line 20, in test_one\n",
      "    self.assertTrue(Compare(self.one_collect), \"Need at least two collections to compare results.\")\n",
      "NameError: name 'Compare' is not defined\n",
      "\n",
      "======================================================================\n",
      "ERROR: test_three (__main__.CompareTests)\n",
      "----------------------------------------------------------------------\n",
      "Traceback (most recent call last):\n",
      "  File \"<ipython-input-1-4488d75fad46>\", line 30, in test_three\n",
      "    self.assertTrue(Compare(self.three_collect).response.subset_labels[0].get_text(), 4)\n",
      "NameError: name 'Compare' is not defined\n",
      "\n",
      "======================================================================\n",
      "ERROR: test_two (__main__.CompareTests)\n",
      "----------------------------------------------------------------------\n",
      "Traceback (most recent call last):\n",
      "  File \"<ipython-input-1-4488d75fad46>\", line 24, in test_two\n",
      "    self.assertTrue(Compare(self.two_collect).response.subset_labels[1].get_text(), 4)\n",
      "NameError: name 'Compare' is not defined\n",
      "\n",
      "----------------------------------------------------------------------\n",
      "Ran 4 tests in 0.005s\n",
      "\n",
      "FAILED (errors=4)\n"
     ]
    },
    {
     "data": {
      "text/plain": [
       "<unittest.runner.TextTestResult run=4 errors=4 failures=0>"
      ]
     },
     "execution_count": 1,
     "metadata": {},
     "output_type": "execute_result"
    }
   ],
   "source": [
    "#Unit tests to be removed later.\n",
    "\n",
    "import unittest\n",
    "\n",
    "class CompareTests(unittest.TestCase):\n",
    "    \n",
    "    collection1 = [\"google\", \"apple\", \"microsoft\", \"msn\", \"napster\", \"oracle\", \"amazon\", \"ibm\"]\n",
    "    collection2 = [\"google\", \"pear\", \"thebeatles\", \"thepogues\", \"napster\", \"apple\", \"cow\"]\n",
    "    collection3 = [\"google\", \"apple\", \"msn\", \"skunk\", \"beaver\", \"wolf\", \"cow\"]\n",
    "    collection4 = [\"apple\", \"jump\", \"walk\", \"run\", \"saunter\", \"skunk\", \"napster\"]\n",
    "    collection5 = [\"pear\", \"wolf\", \"jive\", \"tango\"]\n",
    "    collection6 = [\"google\", \"apple\", \"msn\", \"thepogues\", \"napster\", \"wolf\", \"amazon\", \"tango\"]\n",
    "    one_collect = [collection1]\n",
    "    two_collect = [collection1, collection2]\n",
    "    three_collect = [collection1, collection2, collection3]\n",
    "    all_collect = [collection1, collection2, collection3, collection4, collection5, collection6]\n",
    "    \n",
    "    def test_one (self):\n",
    "        print(\"test error with one collection\")\n",
    "        self.assertTrue(Compare(self.one_collect), \"Need at least two collections to compare results.\")\n",
    "        \n",
    "    def test_two (self):\n",
    "        print (\"test results for two collections\")\n",
    "        self.assertTrue(Compare(self.two_collect).response.subset_labels[1].get_text(), 4)\n",
    "        self.assertTrue(Compare(self.two_collect).response.subset_labels[0].get_text(), 5)\n",
    "        self.assertTrue(Compare(self.two_collect).response.subset_labels[2].get_text(), 3)\n",
    "    \n",
    "    def test_three (self):\n",
    "        print(\"test results for three\")\n",
    "        self.assertTrue(Compare(self.three_collect).response.subset_labels[0].get_text(), 4)\n",
    "        self.assertTrue(Compare(self.three_collect).response.subset_labels[1].get_text(), 3)\n",
    "        self.assertTrue(Compare(self.three_collect).response.subset_labels[0].get_text(), 1)\n",
    "        self.assertTrue(Compare(self.three_collect).response.subset_labels[0].get_text(), 3)\n",
    "        self.assertTrue(Compare(self.three_collect).response.subset_labels[0].get_text(), 1)\n",
    "        self.assertTrue(Compare(self.three_collect).response.subset_labels[0].get_text(), 1)\n",
    "        self.assertTrue(Compare(self.three_collect).response.subset_labels[0].get_text(), 2)\n",
    "    \n",
    "    def test_all (self):\n",
    "        print(\"test results for more than three\")\n",
    "        test=Compare(self.all_collect, names=[\"ONE\", \"TWO\", \"THREE\", \"FOUR\", \"FIVE\", \"SIX\"], REMOVE_SINGLES=False)\n",
    "        self.assertTrue(list(Compare(self.all_collect, names=[\"ONE\", \"TWO\", \"THREE\", \"FOUR\", \"FIVE\", \"SIX\"], REMOVE_SINGLES=False).response.iloc[1].values), \n",
    "                        [True, True, True, True, False, True])\n",
    "        self.assertTrue(list(Compare(self.all_collect, names=[\"ONE\", \"TWO\", \"THREE\", \"FOUR\", \"FIVE\", \"SIX\"], REMOVE_SINGLES=False).response.ix['amazon'].values),\n",
    "                        [True, False, False, False, False, True])\n",
    "        self.assertTrue(list(Compare(self.all_collect, names=[\"ONE\", \"TWO\", \"THREE\", \"FOUR\", \"FIVE\", \"SIX\"], REMOVE_SINGLES=False).response.iloc[5].values),\n",
    "                        [True, False, False, False, False, False])\n",
    "        \n",
    "        \n",
    "        \n",
    "\n",
    "suite = unittest.TestLoader().loadTestsFromTestCase(CompareTests)\n",
    "unittest.TextTestRunner().run(suite)\n",
    "        "
   ]
  },
  {
   "cell_type": "code",
   "execution_count": 12,
   "metadata": {
    "collapsed": false
   },
   "outputs": [
    {
     "name": "stdout",
     "output_type": "stream",
     "text": [
      "           Factor Score           Squared cosines      Contributions x 1000  \\\n",
      "                      1         2               1    2                    1   \n",
      "alberta_oi      1.05586 -0.343164             NaN  NaN                  NaN   \n",
      "web_archiv   -0.0681805  0.397215             NaN  NaN                  NaN   \n",
      "health_sci    0.0286926  0.423649             NaN  NaN                  NaN   \n",
      "prarie_pro    -0.137887 -0.173909             NaN  NaN                  NaN   \n",
      "canadian_b      1.11153 -0.534136             NaN  NaN                  NaN   \n",
      "hcf_albert     0.392565  0.317313             NaN  NaN                  NaN   \n",
      "lfrancopho     -0.31003 -0.266426             NaN  NaN                  NaN   \n",
      "energy_env     0.911012  -0.25989             NaN  NaN                  NaN   \n",
      "ottawa_sho     0.256949  0.642581             NaN  NaN                  NaN   \n",
      "alberta_ed     0.385476  0.299072             NaN  NaN                  NaN   \n",
      "\n",
      "                SUFFIX  \n",
      "              2         \n",
      "alberta_oi  NaN    NaN  \n",
      "web_archiv  NaN    NaN  \n",
      "health_sci  NaN    NaN  \n",
      "prarie_pro  NaN    NaN  \n",
      "canadian_b  NaN    NaN  \n",
      "hcf_albert  NaN    NaN  \n",
      "lfrancopho  NaN    NaN  \n",
      "energy_env  NaN    NaN  \n",
      "ottawa_sho  NaN    NaN  \n",
      "alberta_ed  NaN    NaN  \n"
     ]
    }
   ],
   "source": [
    "    \n",
    "compare3.ca.loc[:,'SUFFIX'] = pd.Series(var, index=compare3.ca.index)\n",
    "print (compare3.ca)\n",
    "compare3.ca.to_csv(\"output.csv\",  encoding='utf-8')\n"
   ]
  },
  {
   "cell_type": "code",
   "execution_count": null,
   "metadata": {
    "collapsed": true
   },
   "outputs": [],
   "source": []
  }
 ],
 "metadata": {
  "kernelspec": {
   "display_name": "Python 3",
   "language": "python",
   "name": "python3"
  },
  "language_info": {
   "codemirror_mode": {
    "name": "ipython",
    "version": 3
   },
   "file_extension": ".py",
   "mimetype": "text/x-python",
   "name": "python",
   "nbconvert_exporter": "python",
   "pygments_lexer": "ipython3",
   "version": "3.5.2"
  }
 },
 "nbformat": 4,
 "nbformat_minor": 0
}
