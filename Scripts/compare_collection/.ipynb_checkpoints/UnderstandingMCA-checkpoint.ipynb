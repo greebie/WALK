{
 "cells": [
  {
   "cell_type": "code",
   "execution_count": 16,
   "metadata": {
    "collapsed": true
   },
   "outputs": [],
   "source": [
    "##################### \n",
    "#Dealing with large datasets can be confusing, especially when you have very little idea\n",
    "#about what's actually inside the data.  Using an analysis like multiple correspondence analysis\n",
    "#can be quite confusing in that context.  Here is an example of using mca where the data might\n",
    "#be a little more clear.  That way you can see the benefit of mca in action.\n"
   ]
  },
  {
   "cell_type": "code",
   "execution_count": 17,
   "metadata": {
    "collapsed": false
   },
   "outputs": [
    {
     "name": "stdout",
     "output_type": "stream",
     "text": [
      "<compare_collection.Compare object at 0x7f7c3f7ee470>\n"
     ]
    },
    {
     "data": {
      "image/png": "[encoded data removed]",
      "text/plain": [
       "<matplotlib.figure.Figure at 0x7f7c3f7ee358>"
      ]
     },
     "metadata": {},
     "output_type": "display_data"
    }
   ],
   "source": [
    "#First let's import the necessary library.\n",
    "%matplotlib inline\n",
    "from compare_collection import Compare\n",
    "\n",
    "x = Compare({\"happy\": [\"sad\", \"depressed\"], \"sad\": [\"ecstatic\", \"bursting\"]}, LABEL_BOTH_FACTORS=True)\n",
    "print (x)"
   ]
  },
  {
   "cell_type": "code",
   "execution_count": 18,
   "metadata": {
    "collapsed": false
   },
   "outputs": [],
   "source": [
    "#Let's work with Committees of the current (2015-2016) sitting parliament.\n",
    "# In network lingo, we are working with \"bivariate\" or \"affiliation\" data.\n",
    "# There are two sets of variables.  1. MPs and 2. Committees that the MPs belong to.\n",
    "# Or worded in another way, we are examining how MPs are affiliated with different groups.\n",
    "\n",
    "\n",
    "Committees = dict({\"ESPE\": #Pay equity\n",
    "                   [(\"Lib\", \"A Vandenbeld\"), (\"Con\", \"S Stubbs\"), (\"NDP\", \"S Benson\"), (\"Con\", \"D Albas\"), \n",
    "                    (\"Lib\", \"M DeCourcey\"), (\"Lib\", \"J Dzerowicz\"), (\"Con\", \"M Gladu\"), (\"Lib\", \"T Sheehan\"), \n",
    "                    (\"Lib\", \"S Sidhu\")],\n",
    "                   \n",
    "                   \"FEWO\": #Status of Women\n",
    "                   [(\"Con\", \"M Gladu\"), (\"Lib\", \"P Damoff\"), (\"NDP\", \"S Malcomson\"), (\"Lib\", \"S Fraser\"), \n",
    "                    (\"Con\", \"R Harder\"), (\"Lib\", \"K Ludwig\"), (\"Lib\", \"E Nassif\"), (\"Lib\", \"R Sahota\"), \n",
    "                    (\"Lib\", \"A Vandenbeld\"), (\"Con\", \"K Vecchio\")],\n",
    "                   \n",
    "                   \"HESA\": #Health\n",
    "                   [(\"Lib\", \"B Casey\"), (\"Con\", \"L Webber\"), (\"NDP\", \"D Davies\"), (\"Lib\", \"R Ayoub\"), \n",
    "                    (\"Con\", \"C Carrie\"), (\"Lib\", \"D Eyolfson\"), (\"Con\", \"R Harder\"), (\"Lib\", \"DS Kang\"), \n",
    "                    (\"Lib\", \"J Oliver\"), (\"Lib\", \"S Sidhu\")],\n",
    "                  \n",
    "                   \"BILI\": #Library of Parliament\n",
    "                   [(\"Con\", \"G Brown\"), (\"Con\", \"K Diotte\"), (\"Con\", \"T Doherty\"), (\"Lib\", \"A Iacono\"),\n",
    "                   (\"Con\", \"M Lake\"), (\"Lib\", \"M Levitt\"), (\"Lib\", \"E Nassif\"), (\"NDP\", \"AMT Quach\"), \n",
    "                   (\"Lib\", \"D Rusnak\"), (\"Lib\", \"M Serré\"), (\"Lib\", \"G Sikand\"), (\"Lib\", \"S Simms\")],\n",
    "                   \n",
    "                   \"RNNR\": #Natural Resources\n",
    "                   [(\"Lib\", \"J Maloney\"), (\"Con\", \"J Barlow\"), (\"NDP\", \"R Cannings\"), (\"Con\", \"C Bergen\"),\n",
    "                   (\"Lib\", \"TJ Harvey\"), (\"Lib\", \"D Lemieux\"), (\"Lib\", \"MV Mcleod\"), (\"Lib\", \"M Serré\"), \n",
    "                   (\"Con\", \"S Stubbs\"), (\"Lib\", \"G Tan\")]\n",
    "                   \n",
    "                  })\n"
   ]
  },
  {
   "cell_type": "code",
   "execution_count": 19,
   "metadata": {
    "collapsed": false
   },
   "outputs": [
    {
     "name": "stdout",
     "output_type": "stream",
     "text": [
      "There are 2 members in common. They are : {'M Gladu', 'A Vandenbeld'}\n"
     ]
    },
    {
     "data": {
      "image/png": "[encoded data removed]",
      "text/plain": [
       "<matplotlib.figure.Figure at 0x7f7c3f7affd0>"
      ]
     },
     "metadata": {},
     "output_type": "display_data"
    }
   ],
   "source": [
    "# Let's just start with a case of two committees and focus just on the people (not their parties)\n",
    "EquityStatus = {\"ESPE\": [y for x, y in Committees[\"ESPE\"]], \"FEWO\": [y for x, y in Committees[\"FEWO\"]]}\n",
    "equityStatus = Compare(EquityStatus)\n",
    "\n",
    "print(\"There are \"+ str(len(equityStatus.V2_AB)) + \" members in common. They are : \" + str(equityStatus.V2_AB))\n"
   ]
  },
  {
   "cell_type": "code",
   "execution_count": 20,
   "metadata": {
    "collapsed": false
   },
   "outputs": [
    {
     "name": "stdout",
     "output_type": "stream",
     "text": [
      "['BILI', 'ESPE', 'HESA', 'FEWO', 'RNNR']\n"
     ]
    },
    {
     "ename": "AttributeError",
     "evalue": "'Compare' object has no attribute 'LABEL_FOR_TWO'",
     "output_type": "error",
     "traceback": [
      "\u001b[1;31m---------------------------------------------------------------------------\u001b[0m",
      "\u001b[1;31mAttributeError\u001b[0m                            Traceback (most recent call last)",
      "\u001b[1;32m<ipython-input-20-4606d9db36ba>\u001b[0m in \u001b[0;36m<module>\u001b[1;34m()\u001b[0m\n\u001b[0;32m      6\u001b[0m     \u001b[0mCommittee\u001b[0m\u001b[1;33m[\u001b[0m\u001b[0mcom\u001b[0m\u001b[1;33m]\u001b[0m \u001b[1;33m=\u001b[0m \u001b[1;33m[\u001b[0m\u001b[0my\u001b[0m \u001b[1;32mfor\u001b[0m \u001b[0mx\u001b[0m\u001b[1;33m,\u001b[0m \u001b[0my\u001b[0m \u001b[1;32min\u001b[0m \u001b[0mmembers\u001b[0m\u001b[1;33m]\u001b[0m\u001b[1;33m\u001b[0m\u001b[0m\n\u001b[0;32m      7\u001b[0m \u001b[1;33m\u001b[0m\u001b[0m\n\u001b[1;32m----> 8\u001b[1;33m \u001b[0mcommittees_ca\u001b[0m \u001b[1;33m=\u001b[0m \u001b[0mCompare\u001b[0m\u001b[1;33m(\u001b[0m\u001b[0mCommittee\u001b[0m\u001b[1;33m,\u001b[0m \u001b[0mLABEL_BOTH_FACTORS\u001b[0m\u001b[1;33m=\u001b[0m\u001b[1;32mTrue\u001b[0m\u001b[1;33m)\u001b[0m\u001b[1;33m\u001b[0m\u001b[0m\n\u001b[0m",
      "\u001b[1;32m/home/ryandeschamps/WALK/Scripts/compare_collection/compare_collection.py\u001b[0m in \u001b[0;36m__init__\u001b[1;34m(self, collections, names, index, var, REMOVE_SINGLES, LABEL_BOTH_FACTORS)\u001b[0m\n\u001b[0;32m     75\u001b[0m                 \u001b[1;32melse\u001b[0m\u001b[1;33m:\u001b[0m\u001b[1;33m\u001b[0m\u001b[0m\n\u001b[0;32m     76\u001b[0m                     \u001b[0mself\u001b[0m\u001b[1;33m.\u001b[0m\u001b[0mvar\u001b[0m \u001b[1;33m=\u001b[0m \u001b[1;33m[\u001b[0m\u001b[1;33m]\u001b[0m\u001b[1;33m\u001b[0m\u001b[0m\n\u001b[1;32m---> 77\u001b[1;33m                 \u001b[0mself\u001b[0m\u001b[1;33m.\u001b[0m\u001b[0mca\u001b[0m \u001b[1;33m=\u001b[0m \u001b[0mself\u001b[0m\u001b[1;33m.\u001b[0m\u001b[0mca\u001b[0m\u001b[1;33m(\u001b[0m\u001b[0mself\u001b[0m\u001b[1;33m.\u001b[0m\u001b[0mcollections\u001b[0m\u001b[1;33m,\u001b[0m \u001b[0mself\u001b[0m\u001b[1;33m.\u001b[0m\u001b[0mcollection_names\u001b[0m\u001b[1;33m)\u001b[0m\u001b[1;33m\u001b[0m\u001b[0m\n\u001b[0m\u001b[0;32m     78\u001b[0m             \u001b[1;32melse\u001b[0m\u001b[1;33m:\u001b[0m\u001b[1;33m\u001b[0m\u001b[0m\n\u001b[0;32m     79\u001b[0m                 \u001b[0mself\u001b[0m\u001b[1;33m.\u001b[0m\u001b[0mno_compare\u001b[0m\u001b[1;33m(\u001b[0m\u001b[1;33m)\u001b[0m\u001b[1;33m\u001b[0m\u001b[0m\n",
      "\u001b[1;32m/home/ryandeschamps/WALK/Scripts/compare_collection/compare_collection.py\u001b[0m in \u001b[0;36mca\u001b[1;34m(self, collections, names)\u001b[0m\n\u001b[0;32m    126\u001b[0m         \u001b[0mpoints\u001b[0m \u001b[1;33m=\u001b[0m \u001b[0mdata\u001b[0m\u001b[1;33m.\u001b[0m\u001b[0mloc\u001b[0m\u001b[1;33m[\u001b[0m\u001b[0mfs\u001b[0m\u001b[1;33m]\u001b[0m\u001b[1;33m.\u001b[0m\u001b[0mvalues\u001b[0m\u001b[1;33m\u001b[0m\u001b[0m\n\u001b[0;32m    127\u001b[0m         \u001b[0murls\u001b[0m \u001b[1;33m=\u001b[0m \u001b[0mcounts\u001b[0m\u001b[1;33m.\u001b[0m\u001b[0mfs_c\u001b[0m\u001b[1;33m(\u001b[0m\u001b[0mN\u001b[0m\u001b[1;33m=\u001b[0m\u001b[1;36m2\u001b[0m\u001b[1;33m)\u001b[0m\u001b[1;33m.\u001b[0m\u001b[0mT\u001b[0m\u001b[1;33m\u001b[0m\u001b[0m\n\u001b[1;32m--> 128\u001b[1;33m         \u001b[0mclabels\u001b[0m \u001b[1;33m=\u001b[0m \u001b[0mdata\u001b[0m\u001b[1;33m.\u001b[0m\u001b[0mcolumns\u001b[0m\u001b[1;33m.\u001b[0m\u001b[0mvalues\u001b[0m\u001b[1;33m\u001b[0m\u001b[0m\n\u001b[0m\u001b[0;32m    129\u001b[0m         \u001b[0mplt\u001b[0m\u001b[1;33m.\u001b[0m\u001b[0mfigure\u001b[0m\u001b[1;33m(\u001b[0m\u001b[0mfigsize\u001b[0m\u001b[1;33m=\u001b[0m\u001b[1;33m(\u001b[0m\u001b[1;36m10\u001b[0m\u001b[1;33m,\u001b[0m\u001b[1;36m10\u001b[0m\u001b[1;33m)\u001b[0m\u001b[1;33m)\u001b[0m\u001b[1;33m\u001b[0m\u001b[0m\n\u001b[0;32m    130\u001b[0m         \u001b[0mplt\u001b[0m\u001b[1;33m.\u001b[0m\u001b[0mmargins\u001b[0m\u001b[1;33m(\u001b[0m\u001b[1;36m0.1\u001b[0m\u001b[1;33m)\u001b[0m\u001b[1;33m\u001b[0m\u001b[0m\n",
      "\u001b[1;31mAttributeError\u001b[0m: 'Compare' object has no attribute 'LABEL_FOR_TWO'"
     ]
    }
   ],
   "source": [
    "# Now let's see what ca does:\n",
    "\n",
    "Committee = dict()\n",
    "\n",
    "for com, members in Committees.items():\n",
    "    Committee[com] = [y for x, y in members]\n",
    "\n",
    "committees_ca = Compare(Committee, LABEL_BOTH_FACTORS=True)"
   ]
  },
  {
   "cell_type": "code",
   "execution_count": null,
   "metadata": {
    "collapsed": true
   },
   "outputs": [],
   "source": []
  }
 ],
 "metadata": {
  "kernelspec": {
   "display_name": "Python 3",
   "language": "python",
   "name": "python3"
  },
  "language_info": {
   "codemirror_mode": {
    "name": "ipython",
    "version": 3
   },
   "file_extension": ".py",
   "mimetype": "text/x-python",
   "name": "python",
   "nbconvert_exporter": "python",
   "pygments_lexer": "ipython3",
   "version": "3.5.2"
  }
 },
 "nbformat": 4,
 "nbformat_minor": 0
}
