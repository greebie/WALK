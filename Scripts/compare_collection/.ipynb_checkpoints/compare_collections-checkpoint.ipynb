{
 "cells": [
  {
   "cell_type": "code",
   "execution_count": 240,
   "metadata": {
    "collapsed": false
   },
   "outputs": [],
   "source": [
    "%matplotlib inline\n",
    "import pandas as pd\n",
    "import numpy as np\n",
    "from matplotlib_venn import venn2, venn3\n",
    "import mca\n",
    "import matplotlib.pyplot as plt\n",
    "from collections import Counter"
   ]
  },
  {
   "cell_type": "code",
   "execution_count": 241,
   "metadata": {
    "collapsed": false
   },
   "outputs": [],
   "source": [
    "class Compare:\n",
    "    def __init__ (self, collections):\n",
    "        self.collections = collections\n",
    "        if not isinstance(self.collections, list):\n",
    "            self.collections = [self.collections]\n",
    "        if len(self.collections) == 2:\n",
    "            self.response = self.two_venn(self.collections)\n",
    "        elif len(self.collections) == 3:\n",
    "            self.three_venn(self.collections)\n",
    "        elif len(self.collections) >3:\n",
    "            self.ca = self.ca(self.collections)\n",
    "    # Venn diagram of two collections\n",
    "    def union (self, sets_list):\n",
    "        return set().union(*sets_list)\n",
    "    def two_venn (self, collections):\n",
    "        return  (venn2([set(x) for x in collections]))\n",
    "    def three_venn (self, collections):\n",
    "        return  (venn3([set(x) for x in collections]))\n",
    "    def ca(self, collections):\n",
    "        dd = self.union(collections)\n",
    "        d = []\n",
    "        fs, cos, cont = 'Factor Score','Squared cosines', 'Contributions x 1000'\n",
    "        for y in collections:\n",
    "            d.append({x: x in y for x in dd})\n",
    "        df = pd.DataFrame(d, index=[\"col_\"+str(x) for x in range(1, len(collections)+1)])\n",
    "        counts = mca.mca(df)\n",
    "        data = pd.DataFrame(columns=df.index, index=pd.MultiIndex\n",
    "                      .from_product([[fs, cos, cont], range(1, 3)]))\n",
    "        data.loc[fs,    :] = counts.fs_r(N=2).T\n",
    "        points = data.loc[fs].values\n",
    "        labels = data.columns.values\n",
    "\n",
    "        plt.figure()\n",
    "        plt.margins(0.1)\n",
    "        plt.axhline(0, color='gray')\n",
    "        plt.axvline(0, color='gray')\n",
    "        plt.xlabel('Factor 1')\n",
    "        plt.ylabel('Factor 2')\n",
    "        plt.scatter(*points, s=120, marker='o', c='r', alpha=.5, linewidths=0)\n",
    "        for label, x, y in zip(labels, *points):\n",
    "            plt.annotate(label, xy=(x, y), xytext=(x + .03, y + .03))\n",
    "        plt.show()\n",
    "        return(df.T)\n",
    "        "
   ]
  },
  {
   "cell_type": "code",
   "execution_count": 242,
   "metadata": {
    "collapsed": false
   },
   "outputs": [],
   "source": [
    "collection1 = [\"google\", \"apple\", \"microsoft\", \"msn\", \"napster\", \"oracle\", \"amazon\", \"ibm\"]\n",
    "collection2 = [\"google\", \"pear\", \"thebeatles\", \"thepogues\", \"napster\", \"apple\", \"cow\"]\n",
    "collection3 = [\"google\", \"apple\", \"msn\", \"skunk\", \"beaver\", \"wolf\", \"cow\"]\n",
    "collection4 = [\"apple\", \"jump\", \"walk\", \"run\", \"saunter\", \"skunk\", \"napster\"]\n",
    "collection5 = [\"pear\", \"wolf\", \"jive\", \"tango\"]\n",
    "collection6 = [\"google\", \"apple\", \"msn\", \"thepogues\", \"napster\", \"wolf\", \"amazon\", \"tango\"]\n",
    "\n",
    "one_collect = [collection1]\n",
    "two_collect = [collection1, collection2]\n",
    "three_collect = [collection1, collection2, collection3]\n",
    "all_collect = [collection1, collection2, collection3, collection4, collection5, collection6]"
   ]
  },
  {
   "cell_type": "code",
   "execution_count": 243,
   "metadata": {
    "collapsed": false
   },
   "outputs": [
    {
     "data": {
      "image/png": "[encoded data removed]",
      "text/plain": [
       "<matplotlib.figure.Figure at 0x117453048>"
      ]
     },
     "metadata": {},
     "output_type": "display_data"
    }
   ],
   "source": [
    "#Venn diagram for two collections\n",
    "#A has 8 items; B has 7. They have 3 in common.\n",
    "compare1 = Compare(two_collect)\n"
   ]
  },
  {
   "cell_type": "code",
   "execution_count": 244,
   "metadata": {
    "collapsed": false
   },
   "outputs": [
    {
     "data": {
      "image/png": "[encoded data removed]",
      "text/plain": [
       "<matplotlib.figure.Figure at 0x116fcf4e0>"
      ]
     },
     "metadata": {},
     "output_type": "display_data"
    }
   ],
   "source": [
    "# What happens with three collections\n",
    "compare2 = Compare(three_collect)\n"
   ]
  },
  {
   "cell_type": "code",
   "execution_count": 245,
   "metadata": {
    "collapsed": false
   },
   "outputs": [
    {
     "data": {
      "image/png": "[encoded data removed]",
      "text/plain": [
       "<matplotlib.figure.Figure at 0x116fdaa90>"
      ]
     },
     "metadata": {},
     "output_type": "display_data"
    }
   ],
   "source": [
    "# With more than three collections, the output switches to correspondence analysis.\n",
    "# Katherine Faust offers a great overview of the method here:\n",
    "# www.socsci.uci.edu/~kfaust/faust/research/articles/articles.htm\n",
    "# In this case, collection 2, 3 & 6 have more in common with each other than with the other collections, so\n",
    "# would be the best possible consideration for a common social network analysis.\n",
    "# Collection 1 may be another consideration.\n",
    "compare3 = Compare(all_collect)"
   ]
  },
  {
   "cell_type": "code",
   "execution_count": 248,
   "metadata": {
    "collapsed": false
   },
   "outputs": [
    {
     "name": "stdout",
     "output_type": "stream",
     "text": [
      "            col_1  col_2  col_3  col_4  col_5  col_6\n",
      "amazon       True  False  False  False  False   True\n",
      "apple        True   True   True   True  False   True\n",
      "beaver      False  False   True  False  False  False\n",
      "cow         False   True   True  False  False  False\n",
      "google       True   True   True  False  False   True\n",
      "ibm          True  False  False  False  False  False\n",
      "jive        False  False  False  False   True  False\n",
      "jump        False  False  False   True  False  False\n",
      "microsoft    True  False  False  False  False  False\n",
      "msn          True  False   True  False  False   True\n",
      "napster      True   True  False   True  False   True\n",
      "oracle       True  False  False  False  False  False\n",
      "pear        False   True  False  False   True  False\n",
      "run         False  False  False   True  False  False\n",
      "saunter     False  False  False   True  False  False\n",
      "skunk       False  False   True   True  False  False\n",
      "tango       False  False  False  False   True   True\n",
      "thebeatles  False   True  False  False  False  False\n",
      "thepogues   False   True  False  False  False   True\n",
      "walk        False  False  False   True  False  False\n",
      "wolf        False  False   True  False   True   True\n"
     ]
    }
   ],
   "source": [
    "# Just to show the table of who matches with whom.\n",
    "print (compare3.ca)"
   ]
  },
  {
   "cell_type": "code",
   "execution_count": null,
   "metadata": {
    "collapsed": true
   },
   "outputs": [],
   "source": []
  }
 ],
 "metadata": {
  "kernelspec": {
   "display_name": "Python 3",
   "language": "python",
   "name": "python3"
  },
  "language_info": {
   "codemirror_mode": {
    "name": "ipython",
    "version": 3
   },
   "file_extension": ".py",
   "mimetype": "text/x-python",
   "name": "python",
   "nbconvert_exporter": "python",
   "pygments_lexer": "ipython3",
   "version": "3.5.1"
  }
 },
 "nbformat": 4,
 "nbformat_minor": 0
}
